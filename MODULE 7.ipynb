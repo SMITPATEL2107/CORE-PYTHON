{
 "cells": [
  {
   "cell_type": "code",
   "execution_count": null,
   "metadata": {},
   "outputs": [],
   "source": [
    "#B1:-what are oops concepts?is multiple inheritance supported in java\n",
    "'''\n",
    "Object,Class,Method,Inheritance,Polymorphism,\n",
    "Data Abstraction,Encapsulation.\n",
    "it is not supported in Java.\n",
    "'''"
   ]
  },
  {
   "cell_type": "code",
   "execution_count": 2,
   "metadata": {},
   "outputs": [
    {
     "name": "stdout",
     "output_type": "stream",
     "text": [
      "86\n",
      "24\n"
     ]
    }
   ],
   "source": [
    "#B2:How To Define a Class in Python?What Is Self?Give An Example Of A Python Class\n",
    "''' \n",
    "class school. self represents the instance of the class. By using the “self”\n",
    "keyword we can access the attributes and methods of the class in python.\n",
    "It binds the attributes with the given arguments. ''' \n",
    "class school(): \n",
    "    def __init__(self,roll): \n",
    "        self.roll=roll  \n",
    "\n",
    "    def students(self,roll,marks): \n",
    "        self.marks=marks \n",
    "        print(self.marks) \n",
    "        print(self.roll) \n",
    "s=school(24) \n",
    "s.students(24,86)"
   ]
  },
  {
   "cell_type": "code",
   "execution_count": 3,
   "metadata": {},
   "outputs": [
    {
     "name": "stdout",
     "output_type": "stream",
     "text": [
      "150\n"
     ]
    }
   ],
   "source": [
    "#B3.Write a Python class named Rectangle constructed by a length and width and a method which\n",
    "#will compute the area of a rectangle\n",
    "class rectangle(): \n",
    "    def __init__(self,length,width): \n",
    "        self.length=length \n",
    "        self.width=width \n",
    "    def area(self,length,width): \n",
    "        self.area=self.length*self.width \n",
    "        print(self.area) \n",
    "\n",
    "r=rectangle(10,15) \n",
    "r.area(10,15)"
   ]
  },
  {
   "cell_type": "code",
   "execution_count": 5,
   "metadata": {},
   "outputs": [
    {
     "ename": "AttributeError",
     "evalue": "'circle' object has no attribute 'area'",
     "output_type": "error",
     "traceback": [
      "\u001b[1;31m---------------------------------------------------------------------------\u001b[0m",
      "\u001b[1;31mAttributeError\u001b[0m                            Traceback (most recent call last)",
      "\u001b[1;32m<ipython-input-5-97a1c0dee031>\u001b[0m in \u001b[0;36m<module>\u001b[1;34m\u001b[0m\n\u001b[0;32m     12\u001b[0m \u001b[1;33m\u001b[0m\u001b[0m\n\u001b[0;32m     13\u001b[0m \u001b[0mc\u001b[0m\u001b[1;33m=\u001b[0m\u001b[0mcircle\u001b[0m\u001b[1;33m(\u001b[0m\u001b[1;36m10\u001b[0m\u001b[1;33m)\u001b[0m\u001b[1;33m\u001b[0m\u001b[1;33m\u001b[0m\u001b[0m\n\u001b[1;32m---> 14\u001b[1;33m \u001b[0mc\u001b[0m\u001b[1;33m.\u001b[0m\u001b[0marea\u001b[0m\u001b[1;33m(\u001b[0m\u001b[1;33m)\u001b[0m\u001b[1;33m\u001b[0m\u001b[1;33m\u001b[0m\u001b[0m\n\u001b[0m\u001b[0;32m     15\u001b[0m \u001b[0mc\u001b[0m\u001b[1;33m.\u001b[0m\u001b[0mperimeter\u001b[0m\u001b[1;33m(\u001b[0m\u001b[1;33m)\u001b[0m\u001b[1;33m\u001b[0m\u001b[1;33m\u001b[0m\u001b[0m\n",
      "\u001b[1;31mAttributeError\u001b[0m: 'circle' object has no attribute 'area'"
     ]
    }
   ],
   "source": [
    "#B4.Write a Python class named Circle constructed by a radius and two methods\n",
    "#which will compute the area and the perimeter of a circle..\n",
    "class circle(): \n",
    "    def __init__(self): \n",
    "        self.radius=radius \n",
    "        def area(self,radius): \n",
    "            self.area=self.radius*self.radius*3.14 \n",
    "            print('area of circle is :',self.area) \n",
    "        def perimeter(self):\n",
    "            self.perimeter=2*3.14*self.radius \n",
    "            print('perimeter of circle is:',self.perimeter) \n",
    "            \n",
    "\n",
    "c=circle(10) \n",
    "c.area() \n",
    "c.perimeter()"
   ]
  },
  {
   "cell_type": "code",
   "execution_count": 1,
   "metadata": {},
   "outputs": [
    {
     "name": "stdout",
     "output_type": "stream",
     "text": [
      "area of circle is : 78.5\n",
      "perimeter of circle is: 31.400000000000002\n"
     ]
    }
   ],
   "source": [
    "#B5.Write a Python class named Circle constructed by a radius and two methods\n",
    "#which will compute the area and the perimeter of a circle\n",
    "class circle(): \n",
    "    def __init__(self,radius): \n",
    "        self.radius=radius \n",
    "    def area(self): \n",
    "        self.area=self.radius*self.radius*3.14 \n",
    "        print('area of circle is :',self.area) \n",
    "    def perimeter(self): \n",
    "        self.perimeter=2*3.14*self.radius \n",
    "        print('perimeter of circle is:',self.perimeter) \n",
    "\n",
    "c=circle(5)\n",
    "c.area() \n",
    "c.perimeter() "
   ]
  },
  {
   "cell_type": "code",
   "execution_count": 2,
   "metadata": {},
   "outputs": [
    {
     "name": "stdout",
     "output_type": "stream",
     "text": [
      "80 78\n"
     ]
    }
   ],
   "source": [
    "#B6.Explain Inheritance in Python with an example.?What Is __init__?\n",
    "#Or What Is A Constructor In Python?\n",
    "'''\n",
    "I want to call salary also in my display function\n",
    "''' \n",
    "'''\n",
    "Inheritance allows us to define a class that inherits all the methods and \n",
    "properties from another class. Parent class is the class being inherited from, \n",
    "also called base class. Child class is the class that inherits from another class, \n",
    "also called derived class.\"__init__\" is a reseved method in python classes. \n",
    "It is known as a constructor in object oriented concepts. \n",
    "This method called when an object is created from the class and it allow the \n",
    "class to initialize the attributes of a class.\n",
    "'''\n",
    "class school():\n",
    "    def __init__(self,attendance): \n",
    "        self.attendance=attendance \n",
    "    def teachers(self,salary): \n",
    "        self.salary=salary \n",
    "\n",
    "class students(school): \n",
    "    def __init__(self,attendance,marks): \n",
    "        school.__init__(self,attendance) \n",
    "        self.marks=marks \n",
    "    def display(self): \n",
    "        self.teachers \n",
    "        print(self.attendance,self.marks) \n",
    "        \n",
    "s=students(80,78) \n",
    "s.display()"
   ]
  },
  {
   "cell_type": "code",
   "execution_count": null,
   "metadata": {},
   "outputs": [],
   "source": [
    "#B7. What is Instantiation in terms of OOP terminology?\n",
    "\"\"\"In OOP (object-oriented programming), a class of object may be defined. \n",
    "An instance of that object may then be declared, giving it a unique, named \n",
    "identity so that it may be used in the program. This process is called \n",
    "\"instantiation.\"\n",
    "\"\"\""
   ]
  },
  {
   "cell_type": "code",
   "execution_count": 4,
   "metadata": {},
   "outputs": [
    {
     "name": "stdout",
     "output_type": "stream",
     "text": [
      "Yes! given variable is an instance of type int\n"
     ]
    }
   ],
   "source": [
    "#B8.What is used To check whether an object o is an instance of class A?\n",
    "'''\n",
    "isinstance() function is used to check whether the object or variable is \n",
    "an instance of the specified class type or data type.\n",
    "''' \n",
    "marks = 90 \n",
    "result = isinstance(marks, int)\n",
    "if result : \n",
    "    print(\"Yes! given variable is an instance of type int\") \n",
    "else: \n",
    "    print(\"No! given variable is not an instance of type int\")"
   ]
  },
  {
   "cell_type": "code",
   "execution_count": null,
   "metadata": {},
   "outputs": [],
   "source": [
    "#B9.What relationship is appropriate for Course and Faculty?\n",
    "'''parent child relationship'''"
   ]
  },
  {
   "cell_type": "code",
   "execution_count": null,
   "metadata": {},
   "outputs": [],
   "source": [
    "#B10.What relationship is appropriate for Student and Person?\n",
    "'''person is parent class and student is child class'''"
   ]
  },
  {
   "cell_type": "code",
   "execution_count": null,
   "metadata": {},
   "outputs": [],
   "source": [
    "#I1.Which function overloads the + operator?Which operator is overloaded by __invert__()?\n",
    "\"\"\"'+' operator is overloaded by int class and str class. \n",
    " operator is overloaded by __invert__()\"\"\""
   ]
  },
  {
   "cell_type": "code",
   "execution_count": null,
   "metadata": {},
   "outputs": [],
   "source": [
    "#I2.Which function overloads the >> operator?\n",
    "\"\"\"__rshift__() overloads the >> operator.\"\"\" "
   ]
  },
  {
   "cell_type": "code",
   "execution_count": null,
   "metadata": {},
   "outputs": [],
   "source": [
    "erorr\n",
    "\n",
    "\n",
    "'''I3.Create a class called Numbers, which has a single class attribute called\n",
    "MULTIPLIER, and a constructor which takes the parameters x and y\n",
    "(these should all be numbers).\n",
    "'''\n",
    "class numbers():"
   ]
  },
  {
   "cell_type": "code",
   "execution_count": 6,
   "metadata": {},
   "outputs": [],
   "source": [
    "#A1.Write a Python class to implement pow(x, n)\n",
    "def power(x,n):"
   ]
  },
  {
   "cell_type": "code",
   "execution_count": null,
   "metadata": {},
   "outputs": [],
   "source": []
  }
 ],
 "metadata": {
  "kernelspec": {
   "display_name": "Python 3",
   "language": "python",
   "name": "python3"
  },
  "language_info": {
   "codemirror_mode": {
    "name": "ipython",
    "version": 3
   },
   "file_extension": ".py",
   "mimetype": "text/x-python",
   "name": "python",
   "nbconvert_exporter": "python",
   "pygments_lexer": "ipython3",
   "version": "3.6.8"
  }
 },
 "nbformat": 4,
 "nbformat_minor": 4
}
