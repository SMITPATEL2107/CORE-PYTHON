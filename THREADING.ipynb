{
 "cells": [
  {
   "cell_type": "code",
   "execution_count": 1,
   "metadata": {},
   "outputs": [
    {
     "name": "stdout",
     "output_type": "stream",
     "text": [
      "threadbye----------\n",
      " 1\n",
      "thread 2\n",
      "thread 3\n",
      "thread 4\n",
      "thread 5\n"
     ]
    }
   ],
   "source": [
    "from threading import *\n",
    "\n",
    "def demo():\n",
    "    for i in range(1,6):\n",
    "        print('thread',i)\n",
    "\n",
    "t1=Thread(target=demo)#thread creation\n",
    "t1.start() #task 1 to 6 ni vachhe j  pa6i j close thae jay\n",
    "#t1.join() #badhi process pati gaya pa6i print thay....pela t1 j complete kare \n",
    "print('bye----------')"
   ]
  },
  {
   "cell_type": "code",
   "execution_count": 9,
   "metadata": {},
   "outputs": [
    {
     "name": "stdout",
     "output_type": "stream",
     "text": [
      "hello child ! Thread-9\n",
      "hello child ! Thread-9\n",
      "hello child ! Thread-9\n",
      "hello child ! Thread-9\n",
      "hello child ! Thread-9\n",
      "bye world ! MainThread\n"
     ]
    }
   ],
   "source": [
    "import threading\n",
    "class child(threading.Thread):\n",
    "    def run(self):\n",
    "        for i in range(1,6):\n",
    "            print(\"hello child !\",threading.current_thread().getName())\n",
    "\n",
    "obj=child()\n",
    "obj.start()\n",
    "obj.join()\n",
    "print(\"bye world !\",threading.current_thread().getName())"
   ]
  },
  {
   "cell_type": "code",
   "execution_count": null,
   "metadata": {},
   "outputs": [],
   "source": []
  }
 ],
 "metadata": {
  "kernelspec": {
   "display_name": "Python 3",
   "language": "python",
   "name": "python3"
  },
  "language_info": {
   "codemirror_mode": {
    "name": "ipython",
    "version": 3
   },
   "file_extension": ".py",
   "mimetype": "text/x-python",
   "name": "python",
   "nbconvert_exporter": "python",
   "pygments_lexer": "ipython3",
   "version": "3.6.8"
  }
 },
 "nbformat": 4,
 "nbformat_minor": 4
}
