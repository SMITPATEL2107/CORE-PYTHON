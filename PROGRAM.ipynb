{
 "cells": [
  {
   "cell_type": "code",
   "execution_count": 36,
   "metadata": {},
   "outputs": [
    {
     "name": "stdout",
     "output_type": "stream",
     "text": [
      "A: 123345678 \t Type: <class 'str'>\n",
      "A: 123345678 \t Type: <class 'int'>\n"
     ]
    }
   ],
   "source": [
    "a='123-345-678'\n",
    "a=a.replace('-','')\n",
    "print('A:',a,'\\t','Type:',type(a))\n",
    "a = int(a)\n",
    "print('A:',a,'\\t','Type:',type(a))\n"
   ]
  },
  {
   "cell_type": "code",
   "execution_count": 33,
   "metadata": {},
   "outputs": [
    {
     "data": {
      "text/plain": [
       "123345678"
      ]
     },
     "execution_count": 33,
     "metadata": {},
     "output_type": "execute_result"
    }
   ],
   "source": [
    "type(a)\n",
    "b=int(a)\n",
    "b"
   ]
  },
  {
   "cell_type": "code",
   "execution_count": 34,
   "metadata": {},
   "outputs": [
    {
     "data": {
      "text/plain": [
       "int"
      ]
     },
     "execution_count": 34,
     "metadata": {},
     "output_type": "execute_result"
    }
   ],
   "source": [
    "type(b)"
   ]
  },
  {
   "cell_type": "code",
   "execution_count": 48,
   "metadata": {},
   "outputs": [
    {
     "data": {
      "text/plain": [
       "'smit'"
      ]
     },
     "execution_count": 48,
     "metadata": {},
     "output_type": "execute_result"
    }
   ],
   "source": [
    "s='smit'\n",
    "s"
   ]
  },
  {
   "cell_type": "code",
   "execution_count": 67,
   "metadata": {},
   "outputs": [
    {
     "data": {
      "text/plain": [
       "'tims'"
      ]
     },
     "execution_count": 67,
     "metadata": {},
     "output_type": "execute_result"
    }
   ],
   "source": [
    "a=s[::-1]"
   ]
  },
  {
   "cell_type": "code",
   "execution_count": 81,
   "metadata": {},
   "outputs": [
    {
     "name": "stdout",
     "output_type": "stream",
     "text": [
      "enter namesmit\n",
      "this string is not palantrome\n"
     ]
    }
   ],
   "source": [
    "a=input('enter name')\n",
    "s=a[::-1]\n",
    "\n",
    "if a==s:\n",
    "    print('this string is palantrome')\n",
    "else:\n",
    "    print('this string is not palantrome')"
   ]
  },
  {
   "cell_type": "code",
   "execution_count": 85,
   "metadata": {},
   "outputs": [
    {
     "name": "stdout",
     "output_type": "stream",
     "text": [
      "enter number-2\n",
      "this is negative\n"
     ]
    }
   ],
   "source": [
    "a=int(input('enter number'))\n",
    "if a>0:\n",
    "    print('this is possitive')\n",
    "elif a<0:\n",
    "    print('this is negative')\n",
    "elif a==0:\n",
    "    print('this is zero')  "
   ]
  },
  {
   "cell_type": "code",
   "execution_count": 89,
   "metadata": {},
   "outputs": [
    {
     "name": "stdout",
     "output_type": "stream",
     "text": [
      "enter sub1:50\n",
      "enter sub2:20\n",
      "enter sub3:30\n",
      "enter sub4:40\n",
      "enter sub5:70\n",
      "210\n",
      "42.0\n",
      "third class\n"
     ]
    }
   ],
   "source": [
    "a=int(input('enter sub1:'))\n",
    "b=int(input('enter sub2:'))\n",
    "c=int(input('enter sub3:'))\n",
    "d=int(input('enter sub4:'))\n",
    "e=int(input('enter sub5:'))\n",
    "sum=a+b+c+d+e\n",
    "print(sum)\n",
    "avg=sum/5\n",
    "print(avg)\n",
    "if avg>75:\n",
    "    print('first class')\n",
    "elif avg>75 and avg<60:\n",
    "    print('second class')\n",
    "elif avg<65 and avg>35:\n",
    "    print('third class')\n",
    "else:\n",
    "    print('meet principal office')"
   ]
  },
  {
   "cell_type": "code",
   "execution_count": 94,
   "metadata": {},
   "outputs": [
    {
     "name": "stdout",
     "output_type": "stream",
     "text": [
      "enter word---->l\n",
      "consonant\n"
     ]
    }
   ],
   "source": [
    "a=input('enter word---->')\n",
    "spi='aeiouAEIOU'\n",
    "if a in spi:\n",
    "    print('voval')\n",
    "else:\n",
    "    print('consonant')"
   ]
  },
  {
   "cell_type": "code",
   "execution_count": null,
   "metadata": {},
   "outputs": [],
   "source": [
    "name=input('enetr the name')\n",
    "age=int(input('enetr the age'))\n",
    "phone=int(input('enetr the phone'))\n",
    "stream=input('enetr the stream')\n",
    "print('''\n",
    "<html>\n",
    "print('<title> my information <title>')\n",
    "    <body>\n",
    "<name>%s</name>\n",
    "<age>%d</age> \n",
    "<phone>%d</phone>  \n",
    "<stream>%s</stream>\n",
    "    </body>\n",
    "<\\html>\n",
    "'''%(name,age,phone,stream))"
   ]
  },
  {
   "cell_type": "code",
   "execution_count": null,
   "metadata": {},
   "outputs": [],
   "source": []
  }
 ],
 "metadata": {
  "kernelspec": {
   "display_name": "Python 3",
   "language": "python",
   "name": "python3"
  },
  "language_info": {
   "codemirror_mode": {
    "name": "ipython",
    "version": 3
   },
   "file_extension": ".py",
   "mimetype": "text/x-python",
   "name": "python",
   "nbconvert_exporter": "python",
   "pygments_lexer": "ipython3",
   "version": "3.6.8"
  }
 },
 "nbformat": 4,
 "nbformat_minor": 4
}
