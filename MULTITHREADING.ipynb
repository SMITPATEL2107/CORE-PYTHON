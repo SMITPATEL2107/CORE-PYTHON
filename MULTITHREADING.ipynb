{
 "cells": [
  {
   "cell_type": "code",
   "execution_count": 7,
   "metadata": {},
   "outputs": [
    {
     "name": "stdout",
     "output_type": "stream",
     "text": [
      "threadbye----------\n",
      " 1\n",
      "thread 2\n",
      "thread 3\n",
      "thread 4\n",
      "thread 5\n"
     ]
    }
   ],
   "source": [
    "#1.\n",
    "\n",
    "from threading import *\n",
    "\n",
    "def demo():\n",
    "    for i in range(1,6):\n",
    "        print('thread',i)\n",
    "\n",
    "t1=Thread(target=demo)#thread creation\n",
    "t1.start() #task 1 to 6 ni vachhe j  pa6i j close thae jay\n",
    "#t1.join() #badhi process pati gaya pa6i print thay....pela t1 j complete kare \n",
    "print('bye----------')\n"
   ]
  },
  {
   "cell_type": "code",
   "execution_count": 8,
   "metadata": {},
   "outputs": [
    {
     "ename": "AttributeError",
     "evalue": "module 'threading' has no attribute 'thread'",
     "output_type": "error",
     "traceback": [
      "\u001b[1;31m---------------------------------------------------------------------------\u001b[0m",
      "\u001b[1;31mAttributeError\u001b[0m                            Traceback (most recent call last)",
      "\u001b[1;32m<ipython-input-8-b1a1155f4ff6>\u001b[0m in \u001b[0;36m<module>\u001b[1;34m\u001b[0m\n\u001b[0;32m      6\u001b[0m \"\"\"\n\u001b[0;32m      7\u001b[0m \u001b[1;32mimport\u001b[0m \u001b[0mthreading\u001b[0m\u001b[1;33m\u001b[0m\u001b[1;33m\u001b[0m\u001b[0m\n\u001b[1;32m----> 8\u001b[1;33m \u001b[1;32mclass\u001b[0m \u001b[0mchild\u001b[0m\u001b[1;33m(\u001b[0m\u001b[0mthreading\u001b[0m\u001b[1;33m.\u001b[0m\u001b[0mthread\u001b[0m\u001b[1;33m)\u001b[0m\u001b[1;33m:\u001b[0m\u001b[1;33m\u001b[0m\u001b[1;33m\u001b[0m\u001b[0m\n\u001b[0m\u001b[0;32m      9\u001b[0m     \u001b[1;32mdef\u001b[0m \u001b[0mrun\u001b[0m\u001b[1;33m(\u001b[0m\u001b[0mself\u001b[0m\u001b[1;33m)\u001b[0m\u001b[1;33m:\u001b[0m\u001b[1;33m\u001b[0m\u001b[1;33m\u001b[0m\u001b[0m\n\u001b[0;32m     10\u001b[0m         \u001b[1;32mfor\u001b[0m \u001b[0mi\u001b[0m \u001b[1;32min\u001b[0m \u001b[0mrange\u001b[0m\u001b[1;33m(\u001b[0m\u001b[1;36m1\u001b[0m\u001b[1;33m,\u001b[0m\u001b[1;36m6\u001b[0m\u001b[1;33m)\u001b[0m\u001b[1;33m:\u001b[0m\u001b[1;33m\u001b[0m\u001b[1;33m\u001b[0m\u001b[0m\n",
      "\u001b[1;31mAttributeError\u001b[0m: module 'threading' has no attribute 'thread'"
     ]
    }
   ],
   "source": [
    "#2.by extendin thread class\n",
    "\n",
    "\"\"\"\n",
    "while extanding the thread calss only run and init methods can\n",
    "be overridden.other can't be overridden by child class\n",
    "\"\"\"\n",
    "import threading\n",
    "class child(threading.thread):\n",
    "    def run(self):\n",
    "        for i in range(1,6):\n",
    "            print(\"hello child !\",threading.current_thread().getname())\n",
    "\n",
    "obj.child()\n",
    "obj.start()\n",
    "obj.join()\n",
    "print(\"bye world !\"),threading.current_thread().getname()"
   ]
  },
  {
   "cell_type": "code",
   "execution_count": 7,
   "metadata": {},
   "outputs": [
    {
     "name": "stdout",
     "output_type": "stream",
     "text": [
      "hello world !\n",
      "hello world !\n",
      "hello world !\n",
      "hello world !\n",
      "hello world !\n",
      "bye bye world !\n"
     ]
    }
   ],
   "source": [
    "#3. without extending thread class\n",
    "\n",
    "from threading import *\n",
    "class parent():\n",
    "    def fun(self):\n",
    "        for i in range(1,6):\n",
    "            print(\"hello world !\")\n",
    "obj=parent()\n",
    "th1=Thread(target=obj.fun)\n",
    "th1.start()\n",
    "th1.join()\n",
    "print(\"bye bye world !\")"
   ]
  },
  {
   "cell_type": "code",
   "execution_count": 8,
   "metadata": {},
   "outputs": [
    {
     "name": "stdout",
     "output_type": "stream",
     "text": [
      "1101\n",
      "\n",
      "2102\n",
      "\n",
      "3\n",
      "103\n",
      "4\n",
      "104\n",
      "5105\n",
      "\n",
      "5.018228530883789\n"
     ]
    }
   ],
   "source": [
    "#time comparision\n",
    "\n",
    "import threading\n",
    "import time\n",
    "\n",
    "def fun1():\n",
    "    for i in range(1,6):\n",
    "        time.sleep(1)#sleep fuction time leta hae\n",
    "        print(i)\n",
    "\n",
    "def fun2():\n",
    "    for i in range(1,6):\n",
    "        time.sleep(1)#sleep fuction time leta hae\n",
    "        print(i+100)\n",
    "\n",
    "\"\"\"\n",
    "start_time = time.time()\n",
    "fun1()\n",
    "fun2()\n",
    "print(time.time() - start_time)\n",
    "\"\"\"\n",
    "\n",
    "# using thread\n",
    "t=time.time()\n",
    "t1 = threading.Thread(target=fun1)\n",
    "t2 = threading.Thread(target=fun2)\n",
    "t1.start()\n",
    "t2.start()\n",
    "t1.join()\n",
    "t2.join()\n",
    "tt=time.time()\n",
    "print(tt-t)\n"
   ]
  },
  {
   "cell_type": "code",
   "execution_count": null,
   "metadata": {},
   "outputs": [],
   "source": []
  }
 ],
 "metadata": {
  "kernelspec": {
   "display_name": "Python 3",
   "language": "python",
   "name": "python3"
  },
  "language_info": {
   "codemirror_mode": {
    "name": "ipython",
    "version": 3
   },
   "file_extension": ".py",
   "mimetype": "text/x-python",
   "name": "python",
   "nbconvert_exporter": "python",
   "pygments_lexer": "ipython3",
   "version": "3.6.8"
  }
 },
 "nbformat": 4,
 "nbformat_minor": 4
}
