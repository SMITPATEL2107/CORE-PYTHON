{
 "cells": [
  {
   "cell_type": "code",
   "execution_count": null,
   "metadata": {},
   "outputs": [],
   "source": [
    "\"\"\"Explain Exception handling?What is an Error in Python?\n",
    "ANS: En exeception is an error that happens during the execution of a prgrm when that error occurs,\n",
    "    python generate an exeception that can be handled, which avoids your program to crash.\n",
    "    there are many types of errors in python nameerror,typeerror which show the mistake of the program \n",
    "    on execution time\"\"\""
   ]
  },
  {
   "cell_type": "code",
   "execution_count": null,
   "metadata": {},
   "outputs": [],
   "source": [
    "\"\"\" How many except statements can a try-except block have?Name Some built-in exception classes:\n",
    "ANS:built in exception:nameerror,typeerror,IndentationError,syntaxerror\"\"\""
   ]
  },
  {
   "cell_type": "code",
   "execution_count": null,
   "metadata": {},
   "outputs": [],
   "source": [
    "\"\"\" When will the else part of try-except-else be executed?\n",
    "ans:when in progrsm there are no exception or error then the else part or else block\n",
    "    will execute in python\"\"\""
   ]
  },
  {
   "cell_type": "code",
   "execution_count": null,
   "metadata": {},
   "outputs": [],
   "source": [
    "\"\"\"Can one block of except statements handle multiple exception?\n",
    "ANS:no one block of except statements can be not handle multiple exception\n",
    "\"\"\""
   ]
  },
  {
   "cell_type": "code",
   "execution_count": null,
   "metadata": {},
   "outputs": [],
   "source": [
    "\"\"\".When is the finally block executed\n",
    "ANS:the finally block is always execute if program have error/exception or note but finally block will be execute \n",
    "     always\"\"\""
   ]
  },
  {
   "cell_type": "code",
   "execution_count": 1,
   "metadata": {},
   "outputs": [
    {
     "name": "stdout",
     "output_type": "stream",
     "text": [
      "Object `executed` not found.\n"
     ]
    }
   ],
   "source": [
    "\"\"\". What happens when „1‟ == 1 is executed?\n",
    "ANS:it show the error like this\n",
    "File \"<ipython-input-2-0997bfd5de75>\", line 1\n",
    "    1‟ == 1\n",
    "     ^\n",
    "SyntaxError: invalid character in identifier\n",
    "\"\"\""
   ]
  },
  {
   "cell_type": "code",
   "execution_count": 1,
   "metadata": {},
   "outputs": [
    {
     "name": "stdout",
     "output_type": "stream",
     "text": [
      "name errror\n",
      "thanks\n"
     ]
    }
   ],
   "source": [
    "\"\"\"How Do You Handle Exceptions With Try/Except/Finally In Python?\n",
    "exaplin with coding snippets\n",
    "ANS:\n",
    "exemple::\n",
    "\"\"\"\n",
    "try:\n",
    "    print(zz)\n",
    "except:\n",
    "    print(\"name errror\")\n",
    "finally:\n",
    "    print(\"thanks\")"
   ]
  },
  {
   "cell_type": "code",
   "execution_count": 6,
   "metadata": {},
   "outputs": [
    {
     "ename": "Exception",
     "evalue": "even",
     "output_type": "error",
     "traceback": [
      "\u001b[1;31m---------------------------------------------------------------------------\u001b[0m",
      "\u001b[1;31mException\u001b[0m                                 Traceback (most recent call last)",
      "\u001b[1;32m<ipython-input-6-a8f50a65f765>\u001b[0m in \u001b[0;36m<module>\u001b[1;34m\u001b[0m\n\u001b[0;32m      7\u001b[0m         \u001b[0mprint\u001b[0m\u001b[1;33m(\u001b[0m\u001b[1;34m\"odd\"\u001b[0m\u001b[1;33m)\u001b[0m\u001b[1;33m\u001b[0m\u001b[1;33m\u001b[0m\u001b[0m\n\u001b[0;32m      8\u001b[0m \u001b[1;33m\u001b[0m\u001b[0m\n\u001b[1;32m----> 9\u001b[1;33m \u001b[0muser\u001b[0m\u001b[1;33m(\u001b[0m\u001b[1;36m4\u001b[0m\u001b[1;33m)\u001b[0m\u001b[1;33m\u001b[0m\u001b[1;33m\u001b[0m\u001b[0m\n\u001b[0m",
      "\u001b[1;32m<ipython-input-6-a8f50a65f765>\u001b[0m in \u001b[0;36muser\u001b[1;34m(a)\u001b[0m\n\u001b[0;32m      3\u001b[0m \u001b[1;32mdef\u001b[0m \u001b[0muser\u001b[0m\u001b[1;33m(\u001b[0m\u001b[0ma\u001b[0m\u001b[1;33m)\u001b[0m\u001b[1;33m:\u001b[0m\u001b[1;33m\u001b[0m\u001b[1;33m\u001b[0m\u001b[0m\n\u001b[0;32m      4\u001b[0m     \u001b[1;32mif\u001b[0m \u001b[0ma\u001b[0m\u001b[1;33m%\u001b[0m\u001b[1;36m2\u001b[0m\u001b[1;33m==\u001b[0m\u001b[1;36m0\u001b[0m\u001b[1;33m:\u001b[0m\u001b[1;33m\u001b[0m\u001b[1;33m\u001b[0m\u001b[0m\n\u001b[1;32m----> 5\u001b[1;33m         \u001b[1;32mraise\u001b[0m \u001b[0mException\u001b[0m\u001b[1;33m(\u001b[0m\u001b[1;34m\"even\"\u001b[0m\u001b[1;33m)\u001b[0m\u001b[1;33m\u001b[0m\u001b[1;33m\u001b[0m\u001b[0m\n\u001b[0m\u001b[0;32m      6\u001b[0m     \u001b[1;32melse\u001b[0m\u001b[1;33m:\u001b[0m\u001b[1;33m\u001b[0m\u001b[1;33m\u001b[0m\u001b[0m\n\u001b[0;32m      7\u001b[0m         \u001b[0mprint\u001b[0m\u001b[1;33m(\u001b[0m\u001b[1;34m\"odd\"\u001b[0m\u001b[1;33m)\u001b[0m\u001b[1;33m\u001b[0m\u001b[1;33m\u001b[0m\u001b[0m\n",
      "\u001b[1;31mException\u001b[0m: even"
     ]
    }
   ],
   "source": [
    "\"\"\"b8.write python program that user to enter only odd numbers, else will raise an exception.\n",
    "ANS:\"\"\"\n",
    "def user(a):\n",
    "    if a%2==0:\n",
    "        raise Exception(\"even\")\n",
    "    else:\n",
    "        print(\"odd\")\n",
    "        \n",
    "user(4)"
   ]
  },
  {
   "cell_type": "code",
   "execution_count": 6,
   "metadata": {},
   "outputs": [
    {
     "name": "stdout",
     "output_type": "stream",
     "text": [
      "enter age25\n",
      "hola\n"
     ]
    }
   ],
   "source": [
    "\"\"\"I1.write program for Catching Specific Exceptions in Python\n",
    "ANS:\n",
    "\"\"\"\n",
    "def erros(): \n",
    "    \n",
    "    try: \n",
    "        a=int(input('enter ur age')) \n",
    "    except ValueError: \n",
    "        print('invalid value entered') \n",
    "    else: \n",
    "        if a>=21: \n",
    "            print(\"hello\") \n",
    "        else: \n",
    "            print('byee')\n",
    "    \n",
    "erros()"
   ]
  },
  {
   "cell_type": "code",
   "execution_count": 13,
   "metadata": {},
   "outputs": [
    {
     "name": "stdout",
     "output_type": "stream",
     "text": [
      "error has occured\n"
     ]
    },
    {
     "ename": "UnboundLocalError",
     "evalue": "local variable 'd' referenced before assignment",
     "output_type": "error",
     "traceback": [
      "\u001b[1;31m---------------------------------------------------------------------------\u001b[0m",
      "\u001b[1;31mUnboundLocalError\u001b[0m                         Traceback (most recent call last)",
      "\u001b[1;32m<ipython-input-13-056c9356eda7>\u001b[0m in \u001b[0;36m<module>\u001b[1;34m\u001b[0m\n\u001b[0;32m     11\u001b[0m     \u001b[1;32mfinally\u001b[0m\u001b[1;33m:\u001b[0m\u001b[1;33m\u001b[0m\u001b[1;33m\u001b[0m\u001b[0m\n\u001b[0;32m     12\u001b[0m         \u001b[0md\u001b[0m\u001b[1;33m.\u001b[0m\u001b[0mclose\u001b[0m\u001b[1;33m(\u001b[0m\u001b[1;33m)\u001b[0m\u001b[1;33m\u001b[0m\u001b[1;33m\u001b[0m\u001b[0m\n\u001b[1;32m---> 13\u001b[1;33m \u001b[0mclose1\u001b[0m\u001b[1;33m(\u001b[0m\u001b[1;36m10\u001b[0m\u001b[1;33m)\u001b[0m\u001b[1;33m\u001b[0m\u001b[1;33m\u001b[0m\u001b[0m\n\u001b[0m",
      "\u001b[1;32m<ipython-input-13-056c9356eda7>\u001b[0m in \u001b[0;36mclose1\u001b[1;34m(a)\u001b[0m\n\u001b[0;32m     10\u001b[0m         \u001b[0mprint\u001b[0m\u001b[1;33m(\u001b[0m\u001b[1;34m\"error has occured\"\u001b[0m\u001b[1;33m)\u001b[0m\u001b[1;33m\u001b[0m\u001b[1;33m\u001b[0m\u001b[0m\n\u001b[0;32m     11\u001b[0m     \u001b[1;32mfinally\u001b[0m\u001b[1;33m:\u001b[0m\u001b[1;33m\u001b[0m\u001b[1;33m\u001b[0m\u001b[0m\n\u001b[1;32m---> 12\u001b[1;33m         \u001b[0md\u001b[0m\u001b[1;33m.\u001b[0m\u001b[0mclose\u001b[0m\u001b[1;33m(\u001b[0m\u001b[1;33m)\u001b[0m\u001b[1;33m\u001b[0m\u001b[1;33m\u001b[0m\u001b[0m\n\u001b[0m\u001b[0;32m     13\u001b[0m \u001b[0mclose1\u001b[0m\u001b[1;33m(\u001b[0m\u001b[1;36m10\u001b[0m\u001b[1;33m)\u001b[0m\u001b[1;33m\u001b[0m\u001b[1;33m\u001b[0m\u001b[0m\n",
      "\u001b[1;31mUnboundLocalError\u001b[0m: local variable 'd' referenced before assignment"
     ]
    }
   ],
   "source": [
    "\"\"\".write python program for file operations to makes sure the file is closed\n",
    "even if an exception occurs.\n",
    "ANS: khali open 6 ke nae a cheack karavanu file.closed thi......\n",
    "\"\"\"\n",
    "def close1(a): \n",
    "    try: \n",
    "        d=open(\"module.txt\",'r') \n",
    "        d.read() \n",
    "    except: \n",
    "        print(\"error has occured\") \n",
    "    finally: \n",
    "        d.close() \n",
    "close1(10)"
   ]
  },
  {
   "cell_type": "code",
   "execution_count": null,
   "metadata": {},
   "outputs": [],
   "source": [
    "#I3.Explain Python Errors and Built-in Exceptions with coding snippets\n",
    "'''ImportError <==Raised when the imported module is not found. \n",
    "NameError <==Raised when a variable is not found in local or global scope.\n",
    "SyntaxError <==Raised by parser when syntax error is encountered.'''"
   ]
  },
  {
   "cell_type": "code",
   "execution_count": null,
   "metadata": {},
   "outputs": [],
   "source": [
    "#A1.Explain .User-Defined Exception in Python \n",
    "\"\"\"\n",
    "some of the standard exceptions which are most frequent include IndexError, \n",
    "ImportError, IOError, ZeroDivisionError, TypeError and FileNotFoundError.\n",
    "A user can create his own error using exception class.Programmers may name their \n",
    "own exceptions by creating a new exception class. Exceptions need to be derived from \n",
    "the Exception class, either directly or indirectly.\n",
    "\"\"\" "
   ]
  },
  {
   "cell_type": "code",
   "execution_count": 1,
   "metadata": {},
   "outputs": [
    {
     "name": "stdout",
     "output_type": "stream",
     "text": [
      "enter value between 1-10052\n",
      "guess greater number\n"
     ]
    }
   ],
   "source": [
    "#A2.write program that will ask the user to enter a number until they guess a stored number correctly.\n",
    "a=int(input('enter value between 1-100')) \n",
    "if a==20: \n",
    "    print('you are right') \n",
    "elif a<20: \n",
    "    print(\"guess bigger number\") \n",
    "elif a>20:\n",
    "    print('guess greater number') "
   ]
  },
  {
   "cell_type": "code",
   "execution_count": 3,
   "metadata": {},
   "outputs": [
    {
     "name": "stdout",
     "output_type": "stream",
     "text": [
      "enter value60\n",
      "289.05555555555554\n"
     ]
    }
   ],
   "source": [
    "#A3.What is Assertions in Python? Write function that converts a temperature from degrees Kelvin to degrees Fahrenheit\n",
    "F=int(input('enter value')) \n",
    "assert F!=0, \"enter value non zero\" \n",
    "K=273.5+((F-32.0)*(5.0/9.0)) \n",
    "print(K)"
   ]
  },
  {
   "cell_type": "code",
   "execution_count": 7,
   "metadata": {},
   "outputs": [
    {
     "name": "stdout",
     "output_type": "stream",
     "text": [
      "enter number25\n",
      "enter number20\n",
      "enter valid number\n"
     ]
    }
   ],
   "source": [
    "#A4.Write program that except Clause with No Exceptions.\n",
    "a=int(input('enter number')) \n",
    "b=int(input('enter number'))\n",
    "try: \n",
    "    c=a/bc\n",
    "except: \n",
    "    print(\"enter valid number\")"
   ]
  },
  {
   "cell_type": "code",
   "execution_count": 8,
   "metadata": {},
   "outputs": [
    {
     "name": "stdout",
     "output_type": "stream",
     "text": [
      "Enter a:5\n",
      "Enter b:4\n",
      "a/b = 1\n"
     ]
    }
   ],
   "source": [
    "#A5.What is Argument of an Exception?Explain with coding snippets.\n",
    "'''An exception can have an argument, which is a value that gives \n",
    "additional information about the problem. The contents of the argument \n",
    "vary from exception to exception. You capture an exception's argument by \n",
    "supplying a variable in the except clause ''' \n",
    "try: \n",
    "    a = int(input(\"Enter a:\")) \n",
    "    b = int(input(\"Enter b:\")) \n",
    "    c = a/b; \n",
    "    print(\"a/b = %d\"%c) \n",
    "except Exception: \n",
    "    print(\"can't divide by zero\")"
   ]
  },
  {
   "cell_type": "code",
   "execution_count": null,
   "metadata": {},
   "outputs": [],
   "source": []
  }
 ],
 "metadata": {
  "kernelspec": {
   "display_name": "Python 3",
   "language": "python",
   "name": "python3"
  },
  "language_info": {
   "codemirror_mode": {
    "name": "ipython",
    "version": 3
   },
   "file_extension": ".py",
   "mimetype": "text/x-python",
   "name": "python",
   "nbconvert_exporter": "python",
   "pygments_lexer": "ipython3",
   "version": "3.6.8"
  }
 },
 "nbformat": 4,
 "nbformat_minor": 4
}
