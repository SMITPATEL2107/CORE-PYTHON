{
 "cells": [
  {
   "cell_type": "code",
   "execution_count": null,
   "metadata": {},
   "outputs": [],
   "source": [
    "#FUNCTIONS\n",
    "print()\n",
    "len()\n",
    "sum()\n",
    "min()\n",
    "max()\n",
    "reversed()"
   ]
  },
  {
   "cell_type": "code",
   "execution_count": null,
   "metadata": {},
   "outputs": [],
   "source": [
    "#how to create user difine function(with argument)\n",
    "def fuction_name(areguments):\n",
    "    statments\n",
    "    #or print()\n",
    "    return statment\n",
    "#function calling........\n",
    "function_name(arguments)\n",
    "#examle\n",
    "add(a,b)"
   ]
  },
  {
   "cell_type": "code",
   "execution_count": 1,
   "metadata": {},
   "outputs": [],
   "source": [
    "#example of user difine function(with argument)\n",
    "def add(a,b):\n",
    "    return a+b #or print(a+b)"
   ]
  },
  {
   "cell_type": "code",
   "execution_count": 4,
   "metadata": {},
   "outputs": [
    {
     "name": "stdout",
     "output_type": "stream",
     "text": [
      "enter 1 value======)30\n",
      "enter 2 value======)20\n"
     ]
    },
    {
     "data": {
      "text/plain": [
       "50"
      ]
     },
     "execution_count": 4,
     "metadata": {},
     "output_type": "execute_result"
    }
   ],
   "source": [
    "#example calling of above func\n",
    "a=int(input(\"enter 1 value======)\"))\n",
    "b=int(input(\"enter 2 value======)\"))\n",
    "add(a,b)#calling function\n",
    "#je difine karyu a lakhavanu je a b ni jagya a x y lakhyu to return x and y plus ma levanu"
   ]
  },
  {
   "cell_type": "code",
   "execution_count": 9,
   "metadata": {},
   "outputs": [],
   "source": [
    "#difine function without arguments\n",
    "def add():\n",
    "    a=int(input(\"enter 1 value======>\"))\n",
    "    b=int(input(\"enter 2 value======>\"))\n",
    "    return a+b #je difine karyu a lakhavanu je a b ni jagya a x y lakhyu to return x and y plus ma levanu"
   ]
  },
  {
   "cell_type": "code",
   "execution_count": 10,
   "metadata": {},
   "outputs": [
    {
     "name": "stdout",
     "output_type": "stream",
     "text": [
      "enter 1 value======>20\n",
      "enter 2 value======>30\n"
     ]
    },
    {
     "data": {
      "text/plain": [
       "50"
      ]
     },
     "execution_count": 10,
     "metadata": {},
     "output_type": "execute_result"
    }
   ],
   "source": [
    "add()"
   ]
  },
  {
   "cell_type": "code",
   "execution_count": 12,
   "metadata": {},
   "outputs": [],
   "source": [
    "#print hello with user difine function or calling(with argument)\n",
    "def hello(a):\n",
    "    a=\"hello world\"\n",
    "    return a #or print(a)"
   ]
  },
  {
   "cell_type": "code",
   "execution_count": 13,
   "metadata": {},
   "outputs": [
    {
     "data": {
      "text/plain": [
       "'hello world'"
      ]
     },
     "execution_count": 13,
     "metadata": {},
     "output_type": "execute_result"
    }
   ],
   "source": [
    "hello(a)"
   ]
  },
  {
   "cell_type": "code",
   "execution_count": 18,
   "metadata": {},
   "outputs": [],
   "source": [
    "def hello1():\n",
    "    return \"hello WORLD\""
   ]
  },
  {
   "cell_type": "code",
   "execution_count": 19,
   "metadata": {},
   "outputs": [
    {
     "data": {
      "text/plain": [
       "'hello WORLD'"
      ]
     },
     "execution_count": 19,
     "metadata": {},
     "output_type": "execute_result"
    }
   ],
   "source": [
    "hello1()"
   ]
  },
  {
   "cell_type": "code",
   "execution_count": 24,
   "metadata": {},
   "outputs": [],
   "source": [
    "#return more the\n",
    "def add():\n",
    "    a=int(input(\"enter 1 value======>\"))\n",
    "    b=int(input(\"enter 2 value======>\"))\n",
    "    return a+b,a-b"
   ]
  },
  {
   "cell_type": "code",
   "execution_count": 22,
   "metadata": {},
   "outputs": [
    {
     "name": "stdout",
     "output_type": "stream",
     "text": [
      "enter 1 value======>20\n",
      "enter 2 value======>30\n"
     ]
    },
    {
     "data": {
      "text/plain": [
       "(50, -10)"
      ]
     },
     "execution_count": 22,
     "metadata": {},
     "output_type": "execute_result"
    }
   ],
   "source": [
    "add()"
   ]
  },
  {
   "cell_type": "code",
   "execution_count": 25,
   "metadata": {},
   "outputs": [],
   "source": [
    "#cheack functiom\n",
    "def check(a):\n",
    "    if(a%2==0):\n",
    "        return \"even\"\n",
    "    else:\n",
    "        return\"odd\""
   ]
  },
  {
   "cell_type": "code",
   "execution_count": 27,
   "metadata": {},
   "outputs": [
    {
     "name": "stdout",
     "output_type": "stream",
     "text": [
      "enter on number===>20\n"
     ]
    },
    {
     "data": {
      "text/plain": [
       "'even'"
      ]
     },
     "execution_count": 27,
     "metadata": {},
     "output_type": "execute_result"
    }
   ],
   "source": [
    "x=int(input(\"enter on number===>\"))\n",
    "check(x)"
   ]
  },
  {
   "cell_type": "code",
   "execution_count": 10,
   "metadata": {},
   "outputs": [],
   "source": [
    "def add():\n",
    "    return a+b\n",
    "def sub():\n",
    "    return a-b\n",
    "def mul():\n",
    "    return a*b\n",
    "def div():\n",
    "    return a/b\n",
    "def mod():\n",
    "    return a%b"
   ]
  },
  {
   "cell_type": "code",
   "execution_count": 11,
   "metadata": {},
   "outputs": [
    {
     "name": "stdout",
     "output_type": "stream",
     "text": [
      "enter input for ANS::1\n",
      "enter one value for addition::2\n",
      "enter second value for addition::2\n"
     ]
    }
   ],
   "source": [
    "a=int(input('enter input for ANS::'))\n",
    "ls=[1,2,3,4,5,6]\n",
    "if a in ls:\n",
    "    #print(\"cancle\")\n",
    "    if a==6:\n",
    "        print(\"cancle\")\n",
    "    else:\n",
    "        b=int(input('enter one value for addition::'))\n",
    "        c=int(input('enter second value for addition::'))\n",
    "        if(a==1):\n",
    "            add()\n",
    "        elif(a==2):\n",
    "            sub()\n",
    "        elif(a==3):\n",
    "            mul()\n",
    "        elif(a==4):\n",
    "            div()\n",
    "        elif(a==5):\n",
    "            mod()\n",
    "        else:\n",
    "            print(\"invalid input\")"
   ]
  },
  {
   "cell_type": "code",
   "execution_count": null,
   "metadata": {},
   "outputs": [],
   "source": []
  },
  {
   "cell_type": "code",
   "execution_count": 15,
   "metadata": {},
   "outputs": [],
   "source": [
    "#Enter nd print first and last name via function\n",
    "def smit():\n",
    "    a=input(\"first name=====>\")\n",
    "    b=input(\"last name=====>\")\n",
    "    return 'my name is',a,'an last name',b"
   ]
  },
  {
   "cell_type": "code",
   "execution_count": 16,
   "metadata": {},
   "outputs": [
    {
     "name": "stdout",
     "output_type": "stream",
     "text": [
      "first name=====>smit \n",
      "last name=====>patel\n"
     ]
    },
    {
     "data": {
      "text/plain": [
       "('my name is', 'smit ', 'an last name', 'patel')"
      ]
     },
     "execution_count": 16,
     "metadata": {},
     "output_type": "execute_result"
    }
   ],
   "source": [
    "smit()"
   ]
  },
  {
   "cell_type": "code",
   "execution_count": 32,
   "metadata": {},
   "outputs": [],
   "source": [
    "#\n",
    "def division():\n",
    "    a=int(input(\"first value=====>\"))\n",
    "    b=int(input(\"first value=====>\"))\n",
    "    return a/b"
   ]
  },
  {
   "cell_type": "code",
   "execution_count": 35,
   "metadata": {},
   "outputs": [
    {
     "name": "stdout",
     "output_type": "stream",
     "text": [
      "first name=====>12\n",
      "first name=====>4\n"
     ]
    },
    {
     "data": {
      "text/plain": [
       "3.0"
      ]
     },
     "execution_count": 35,
     "metadata": {},
     "output_type": "execute_result"
    }
   ],
   "source": [
    "division()"
   ]
  },
  {
   "cell_type": "code",
   "execution_count": 2,
   "metadata": {},
   "outputs": [],
   "source": [
    "def plus(a,b):\n",
    "    c=  a+b\n",
    "    return c"
   ]
  },
  {
   "cell_type": "code",
   "execution_count": 3,
   "metadata": {},
   "outputs": [
    {
     "name": "stdout",
     "output_type": "stream",
     "text": [
      "first name=====>20\n",
      "first name=====>30\n"
     ]
    },
    {
     "data": {
      "text/plain": [
       "50"
      ]
     },
     "execution_count": 3,
     "metadata": {},
     "output_type": "execute_result"
    }
   ],
   "source": [
    "a=int(input(\"first name=====>\"))\n",
    "b=int(input(\"first name=====>\"))\n",
    "plus(a,b)"
   ]
  },
  {
   "cell_type": "code",
   "execution_count": 15,
   "metadata": {},
   "outputs": [
    {
     "name": "stdout",
     "output_type": "stream",
     "text": [
      "enter 1 value======>20\n",
      "enter 2 value======>30\n"
     ]
    },
    {
     "data": {
      "text/plain": [
       "50"
      ]
     },
     "execution_count": 15,
     "metadata": {},
     "output_type": "execute_result"
    }
   ],
   "source": [
    "#keyword argument\n",
    "def add(a,b):\n",
    "    return a+b \n",
    "\n",
    "\n",
    "x=int(input(\"enter 1 value======>\"))\n",
    "y=int(input(\"enter 2 value======>\"))\n",
    "add(a=x,b=y)"
   ]
  },
  {
   "cell_type": "code",
   "execution_count": 16,
   "metadata": {},
   "outputs": [
    {
     "name": "stdout",
     "output_type": "stream",
     "text": [
      "abc \t 20\n",
      "que \t 30\n",
      "efg \t 20\n"
     ]
    }
   ],
   "source": [
    "#defualt arguments\n",
    "\"\"\"je defualt add karyu hoy a automatic aayi jay ane jo add karvo ho to aapade add kari\n",
    "sakia na karia to a automatic aayi j jay\"\"\"\n",
    "\n",
    "def info(name,age=20):\n",
    "    print(name,'\\t',age)\n",
    "    \n",
    "info('abc')\n",
    "info('que',30)\n",
    "info('efg')"
   ]
  },
  {
   "cell_type": "code",
   "execution_count": null,
   "metadata": {},
   "outputs": [],
   "source": [
    "#arbitarary arguments:\"\"\"retun tuple always\"\"\"\n",
    "\"\"\"syntax::\"\"\"funcion_name(*argu_name)"
   ]
  },
  {
   "cell_type": "code",
   "execution_count": 2,
   "metadata": {},
   "outputs": [
    {
     "name": "stdout",
     "output_type": "stream",
     "text": [
      "['abc', 'def', 'pqr', '1', '2']\n"
     ]
    }
   ],
   "source": [
    "def info(*name):\n",
    "    for i in name:\n",
    "        print(i)\n",
    "        \n",
    "info(['abc','def','pqr','1','2'])"
   ]
  },
  {
   "cell_type": "code",
   "execution_count": 5,
   "metadata": {},
   "outputs": [
    {
     "name": "stdout",
     "output_type": "stream",
     "text": [
      "{'A': 'a', 'B': 'b'}\n"
     ]
    }
   ],
   "source": [
    "#arbitarary keyword arguments:\"\"\"always return dict\"\"\"\n",
    "\"\"\"syntax::(**name)\"\"\"\n",
    "              \n",
    "              \n",
    "def info(**name):\n",
    "    print(name)\n",
    "    \n",
    "info(A='a',B='b')        "
   ]
  },
  {
   "cell_type": "code",
   "execution_count": 11,
   "metadata": {},
   "outputs": [
    {
     "data": {
      "text/plain": [
       "tuple"
      ]
     },
     "execution_count": 11,
     "metadata": {},
     "output_type": "execute_result"
    }
   ],
   "source": [
    "t=('a','b','c')\n",
    "type(t)"
   ]
  },
  {
   "cell_type": "code",
   "execution_count": 29,
   "metadata": {},
   "outputs": [
    {
     "name": "stdout",
     "output_type": "stream",
     "text": [
      "[1, 2, 3, 4, 5, 6]\n"
     ]
    }
   ],
   "source": [
    "#arbitarary arguments:\n",
    "def info(*name):\n",
    "    #print(name)\n",
    "    for i in name:\n",
    "        print(i)\n",
    "\n",
    "info([1,2,3,4,5,6])"
   ]
  },
  {
   "cell_type": "code",
   "execution_count": 36,
   "metadata": {},
   "outputs": [
    {
     "data": {
      "text/plain": [
       "20"
      ]
     },
     "execution_count": 36,
     "metadata": {},
     "output_type": "execute_result"
    }
   ],
   "source": [
    "#lambda function(anomalise function)\n",
    "\"\"\"syntax:function_name=lambda argument : expression\"\"\"\n",
    "\n",
    "\"\"\"example\"\"\"\n",
    "add=lambda x : x+10\n",
    "add(10)"
   ]
  },
  {
   "cell_type": "code",
   "execution_count": 39,
   "metadata": {},
   "outputs": [
    {
     "name": "stdout",
     "output_type": "stream",
     "text": [
      "11\n",
      "12\n",
      "13\n",
      "14\n",
      "15\n"
     ]
    }
   ],
   "source": [
    "#addding each variable in list using lambda\n",
    "\n",
    "ls=[1,2,3,4,5]\n",
    "lambda x: x+10,ls #read list or lambda function\n",
    "\n",
    "\"\"\"now we use map function and it is always return object\"\"\"\n",
    "map(lambda x: x+10,ls)\n",
    "\n",
    "\"\"\"now we use for loop for givng map's object in ans form\"\"\"\n",
    "for i in map(lambda x: x+10,ls):\n",
    "    print(i)"
   ]
  },
  {
   "cell_type": "code",
   "execution_count": 40,
   "metadata": {},
   "outputs": [
    {
     "data": {
      "text/plain": [
       "[11, 12, 13, 14, 15]"
      ]
     },
     "execution_count": 40,
     "metadata": {},
     "output_type": "execute_result"
    }
   ],
   "source": [
    "#above ans in list for now we use typecasting for convert into the list\n",
    "list(map(lambda x: x+10,ls))"
   ]
  },
  {
   "cell_type": "code",
   "execution_count": 1,
   "metadata": {},
   "outputs": [],
   "source": [
    "def add(*value):\n",
    "    "
   ]
  },
  {
   "cell_type": "code",
   "execution_count": 13,
   "metadata": {},
   "outputs": [
    {
     "ename": "SyntaxError",
     "evalue": "invalid syntax (<ipython-input-13-5f6c2bcee6f2>, line 1)",
     "output_type": "error",
     "traceback": [
      "\u001b[1;36m  File \u001b[1;32m\"<ipython-input-13-5f6c2bcee6f2>\"\u001b[1;36m, line \u001b[1;32m1\u001b[0m\n\u001b[1;33m    def ad(20,30):\u001b[0m\n\u001b[1;37m            ^\u001b[0m\n\u001b[1;31mSyntaxError\u001b[0m\u001b[1;31m:\u001b[0m invalid syntax\n"
     ]
    }
   ],
   "source": [
    "def ad(20,30):\n",
    "    #a=int(input(\"enter the number\"))\n",
    "   # b=int(input(\"enter the number\"))\n",
    "    print(a+b)"
   ]
  },
  {
   "cell_type": "code",
   "execution_count": 2,
   "metadata": {},
   "outputs": [
    {
     "ename": "NameError",
     "evalue": "name 'ad' is not defined",
     "output_type": "error",
     "traceback": [
      "\u001b[1;31m---------------------------------------------------------------------------\u001b[0m",
      "\u001b[1;31mNameError\u001b[0m                                 Traceback (most recent call last)",
      "\u001b[1;32m<ipython-input-2-8e4c4270ab62>\u001b[0m in \u001b[0;36m<module>\u001b[1;34m\u001b[0m\n\u001b[1;32m----> 1\u001b[1;33m \u001b[0mad\u001b[0m\u001b[1;33m(\u001b[0m\u001b[1;33m)\u001b[0m\u001b[1;33m\u001b[0m\u001b[1;33m\u001b[0m\u001b[0m\n\u001b[0m",
      "\u001b[1;31mNameError\u001b[0m: name 'ad' is not defined"
     ]
    }
   ],
   "source": [
    "ad()"
   ]
  },
  {
   "cell_type": "code",
   "execution_count": 1,
   "metadata": {},
   "outputs": [
    {
     "name": "stdout",
     "output_type": "stream",
     "text": [
      "30\n",
      "10\n"
     ]
    },
    {
     "ename": "NameError",
     "evalue": "name 'b' is not defined",
     "output_type": "error",
     "traceback": [
      "\u001b[1;31m---------------------------------------------------------------------------\u001b[0m",
      "\u001b[1;31mNameError\u001b[0m                                 Traceback (most recent call last)",
      "\u001b[1;32m<ipython-input-1-1b63709dc6aa>\u001b[0m in \u001b[0;36m<module>\u001b[1;34m\u001b[0m\n\u001b[0;32m      6\u001b[0m \u001b[0mprint\u001b[0m\u001b[1;33m(\u001b[0m\u001b[0madd\u001b[0m\u001b[1;33m(\u001b[0m\u001b[1;33m)\u001b[0m\u001b[1;33m)\u001b[0m\u001b[1;33m\u001b[0m\u001b[1;33m\u001b[0m\u001b[0m\n\u001b[0;32m      7\u001b[0m \u001b[0mprint\u001b[0m\u001b[1;33m(\u001b[0m\u001b[0ma\u001b[0m\u001b[1;33m)\u001b[0m\u001b[1;33m\u001b[0m\u001b[1;33m\u001b[0m\u001b[0m\n\u001b[1;32m----> 8\u001b[1;33m \u001b[0mprint\u001b[0m\u001b[1;33m(\u001b[0m\u001b[0mb\u001b[0m\u001b[1;33m)\u001b[0m\u001b[1;33m\u001b[0m\u001b[1;33m\u001b[0m\u001b[0m\n\u001b[0m",
      "\u001b[1;31mNameError\u001b[0m: name 'b' is not defined"
     ]
    }
   ],
   "source": [
    "#local and globle variable:::\n",
    "a=10 #global variable\n",
    "def add():\n",
    "    b=20 #local variable\n",
    "    return  a+b\n",
    "\n",
    "print(add())\n",
    "print(a)\n",
    "print(b)"
   ]
  },
  {
   "cell_type": "code",
   "execution_count": null,
   "metadata": {},
   "outputs": [],
   "source": []
  }
 ],
 "metadata": {
  "kernelspec": {
   "display_name": "Python 3",
   "language": "python",
   "name": "python3"
  },
  "language_info": {
   "codemirror_mode": {
    "name": "ipython",
    "version": 3
   },
   "file_extension": ".py",
   "mimetype": "text/x-python",
   "name": "python",
   "nbconvert_exporter": "python",
   "pygments_lexer": "ipython3",
   "version": "3.6.8"
  }
 },
 "nbformat": 4,
 "nbformat_minor": 4
}
