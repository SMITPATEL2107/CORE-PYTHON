{
 "cells": [
  {
   "cell_type": "code",
   "execution_count": null,
   "metadata": {},
   "outputs": [],
   "source": [
    "import socket\n",
    "def server_program():\n",
    "    host=socket.gethostname()  \n",
    "    port=5000 \n",
    "   \n",
    "    server_socket=socket.socket()  \n",
    "    server_socket.bind((host,port))  \n",
    "    print('server start')\n",
    "    server_socket.listen(2)\n",
    "\n",
    "    conn,address=server_socket.accept() \n",
    "    print(\"connection from:-\"+str(address))\n",
    "    while True:\n",
    "        data=conn.recv(1024).decode()\n",
    "        if not data:\n",
    "            break\n",
    "        print(\"from connected user:-\"+str(data))\n",
    "        data=input('->')\n",
    "        conn.send(data.encode())  \n",
    "    conn.close() \n",
    "\n",
    "if __name__=='__main__':\n",
    "    server_program()"
   ]
  },
  {
   "cell_type": "code",
   "execution_count": null,
   "metadata": {},
   "outputs": [],
   "source": []
  }
 ],
 "metadata": {
  "kernelspec": {
   "display_name": "Python 3",
   "language": "python",
   "name": "python3"
  },
  "language_info": {
   "codemirror_mode": {
    "name": "ipython",
    "version": 3
   },
   "file_extension": ".py",
   "mimetype": "text/x-python",
   "name": "python",
   "nbconvert_exporter": "python",
   "pygments_lexer": "ipython3",
   "version": "3.6.8"
  }
 },
 "nbformat": 4,
 "nbformat_minor": 4
}
