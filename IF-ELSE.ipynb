{
 "cells": [
  {
   "cell_type": "code",
   "execution_count": null,
   "metadata": {},
   "outputs": [],
   "source": [
    "\"\"\"if-else\"\"\"\n",
    "1)if\n",
    "2)if else\n",
    "3)elif\n"
   ]
  },
  {
   "cell_type": "code",
   "execution_count": 14,
   "metadata": {},
   "outputs": [
    {
     "name": "stdout",
     "output_type": "stream",
     "text": [
      "true\n"
     ]
    }
   ],
   "source": [
    "if 10<30:\n",
    "    print('true')"
   ]
  },
  {
   "cell_type": "code",
   "execution_count": 18,
   "metadata": {},
   "outputs": [
    {
     "name": "stdout",
     "output_type": "stream",
     "text": [
      "enter your age20\n",
      "your age is 20\n"
     ]
    }
   ],
   "source": [
    "age=int(input(\"enter your age\"))\n",
    "if age>0:\n",
    "    print(\"your age is\",age)"
   ]
  },
  {
   "cell_type": "code",
   "execution_count": 20,
   "metadata": {},
   "outputs": [
    {
     "name": "stdout",
     "output_type": "stream",
     "text": [
      "enter your age60\n",
      "wrong age\n"
     ]
    }
   ],
   "source": [
    "age=int(input(\"enter your age\"))\n",
    "if age<50:\n",
    "    print(\"your age is\",age)\n",
    "else:\n",
    "    print(\"wrong age\")"
   ]
  },
  {
   "cell_type": "code",
   "execution_count": 25,
   "metadata": {},
   "outputs": [
    {
     "name": "stdout",
     "output_type": "stream",
     "text": [
      "enter your age55\n",
      "old age\n"
     ]
    }
   ],
   "source": [
    "age=int(input(\"enter your age\"))\n",
    "if age<18:\n",
    "    print(\"childern\")\n",
    "elif age>18 and age<50:\n",
    "    print(\"gental men or women\")\n",
    "else:\n",
    "    print(\"old age\")"
   ]
  },
  {
   "cell_type": "code",
   "execution_count": 27,
   "metadata": {},
   "outputs": [
    {
     "name": "stdout",
     "output_type": "stream",
     "text": [
      "press 1 check balance\n",
      "press 2 add money\n",
      "press 3 widraw\n",
      "press 4 cancle\n",
      "enter your answer2\n",
      "you main balance is 20000\n",
      "enter amount u want to add in main balance121\n",
      "main balance is 20121\n"
     ]
    }
   ],
   "source": [
    "print(\"press 1 check balance\")\n",
    "print(\"press 2 add money\")\n",
    "print(\"press 3 widraw\")\n",
    "print(\"press 4 cancle\")\n",
    "a=int(input('enter your answer'))\n",
    "b=20000\n",
    "if a==1:\n",
    "    print(\"you main balance is\",b)\n",
    "if a==2:\n",
    "    print(\"you main balance is\",b)\n",
    "    c=int(input(\"enter amount u want to add in main balance\"))\n",
    "    e=c+b\n",
    "    print(\"main balance is\",e)\n",
    "if a==3:\n",
    "    print(\"you main balance is\",b)\n",
    "    p=int(input(\"enter amount u want to widraw\"))\n",
    "    r=b-p\n",
    "    print(\"main balance is\",r)\n",
    "if a==4:\n",
    "    print(\"cancle\")\n",
    "\n"
   ]
  },
  {
   "cell_type": "code",
   "execution_count": 1,
   "metadata": {},
   "outputs": [
    {
     "name": "stdout",
     "output_type": "stream",
     "text": [
      "enter name---->naman\n",
      "this string is palantrome\n"
     ]
    }
   ],
   "source": [
    "a=input('enter name---->')\n",
    "s=a[::-1]\n",
    "\n",
    "if a==s:\n",
    "    print('this string is palantrome')\n",
    "else:\n",
    "    print('this string is not palantrome')"
   ]
  },
  {
   "cell_type": "code",
   "execution_count": null,
   "metadata": {},
   "outputs": [],
   "source": [
    "a=int(input('enter nuber'))\n",
    "if(a%2==0):\n",
    "    print('nuber is prime')\n",
    "else:\n",
    "     print('nuber is not prime')"
   ]
  },
  {
   "cell_type": "code",
   "execution_count": 1,
   "metadata": {},
   "outputs": [
    {
     "name": "stdout",
     "output_type": "stream",
     "text": [
      "enter number22\n",
      "even\n"
     ]
    }
   ],
   "source": [
    "a=int(input('enter number'))\n",
    "print(\"even\" if a%2==0 else \"odd\")"
   ]
  },
  {
   "cell_type": "code",
   "execution_count": 2,
   "metadata": {},
   "outputs": [
    {
     "name": "stdout",
     "output_type": "stream",
     "text": [
      "enter number23\n",
      "positive\n"
     ]
    },
    {
     "data": {
      "text/plain": [
       "['positive']"
      ]
     },
     "execution_count": 2,
     "metadata": {},
     "output_type": "execute_result"
    }
   ],
   "source": [
    "a=int(input('enter number'))\n",
    "print(\"positive\" if a>0 else \"zoro\" if a==0 else \"negative\")\n",
    "\n",
    "[\"positive\" if a>0 else \"negative\" if a<0 else \"zero\"]\n",
    "  "
   ]
  },
  {
   "cell_type": "code",
   "execution_count": 3,
   "metadata": {},
   "outputs": [
    {
     "name": "stdout",
     "output_type": "stream",
     "text": [
      "enter year:2016\n",
      "given year is leap year\n"
     ]
    }
   ],
   "source": [
    "a=int(input('enter year:'))\n",
    "if(a%4==0):\n",
    "      print(\"given year is leap year\")\n",
    "else:\n",
    "    print(\"given year is not leap year\")"
   ]
  },
  {
   "cell_type": "code",
   "execution_count": 4,
   "metadata": {},
   "outputs": [
    {
     "name": "stdout",
     "output_type": "stream",
     "text": [
      "enter year:3022\n",
      "not_leap_year\n"
     ]
    }
   ],
   "source": [
    "a=int(input('enter year:'))\n",
    "print(\"leap_year\" if a%4==0 else \"not_leap_year\")"
   ]
  },
  {
   "cell_type": "code",
   "execution_count": 5,
   "metadata": {},
   "outputs": [
    {
     "name": "stdout",
     "output_type": "stream",
     "text": [
      "enter range number:10\n",
      "enter 1st number2\n",
      "enter 2nd number3\n",
      "0\n",
      "1\n",
      "5\n",
      "8\n",
      "11\n",
      "14\n",
      "17\n",
      "20\n",
      "23\n",
      "26\n"
     ]
    }
   ],
   "source": [
    "a=int(input('enter range number:'))\n",
    "i=0\n",
    "b=int(input('enter 1st number'))\n",
    "c=int(input('enter 2nd number'))\n",
    "while(i<a):\n",
    "    if(i<=1):\n",
    "        next=i\n",
    "    else:\n",
    "        next=b+c\n",
    "        b=c\n",
    "        b=next\n",
    "    print(next)\n",
    "    i=i+1"
   ]
  },
  {
   "cell_type": "code",
   "execution_count": 6,
   "metadata": {},
   "outputs": [
    {
     "name": "stdout",
     "output_type": "stream",
     "text": [
      "press 1 for addition\n",
      "press 2 for substraction\n",
      "press 3 for multiplication\n",
      "press 4 for division\n",
      "press 5 for floor division\n",
      "press 6 for cancle\n",
      "\n",
      "enter input for ANS::1\n",
      "enter one value for addition::22\n",
      "enter second value for addition::23\n",
      "additon of two numbers is 45\n"
     ]
    }
   ],
   "source": [
    "print('press 1 for addition')\n",
    "print('press 2 for substraction')\n",
    "print('press 3 for multiplication')\n",
    "print('press 4 for division')\n",
    "print('press 5 for floor division')\n",
    "print('press 6 for cancle\\n')\n",
    "a=int(input('enter input for ANS::'))\n",
    "if(a==1):\n",
    "    b=int(input('enter one value for addition::'))\n",
    "    c=int(input('enter second value for addition::'))\n",
    "    c=b+c\n",
    "    print('additon of two numbers is',c)\n",
    "elif(a==2):\n",
    "    d=int(input('enter one value for substraction::'))\n",
    "    e=int(input('enter second value for substraction::'))\n",
    "    f=d-e\n",
    "    print('substraction of two numbers is',f)\n",
    "elif(a==3):\n",
    "    i=int(input('enter one value for multiplication::'))\n",
    "    j=int(input('enter second value for multiplication::'))\n",
    "    k=i*j\n",
    "    print('multiplication of two numbers is',k)\n",
    "elif(a==4):\n",
    "    k=int(input('enter one value for division::'))\n",
    "    l=int(input('enter second value for division::'))\n",
    "    m=k/l\n",
    "    print('division of two numbers is',m)\n",
    "elif(a==5):\n",
    "    m=int(input('enter one value for floor division::'))\n",
    "    n=int(input('enter second value for floor division::'))\n",
    "    p=m//n\n",
    "    print('floor division of two numbers is',p)\n",
    "else:\n",
    "    print('sorry you selected the number 6 for cancle')\n",
    "    print('try again')"
   ]
  },
  {
   "cell_type": "code",
   "execution_count": null,
   "metadata": {},
   "outputs": [],
   "source": []
  }
 ],
 "metadata": {
  "kernelspec": {
   "display_name": "Python 3",
   "language": "python",
   "name": "python3"
  },
  "language_info": {
   "codemirror_mode": {
    "name": "ipython",
    "version": 3
   },
   "file_extension": ".py",
   "mimetype": "text/x-python",
   "name": "python",
   "nbconvert_exporter": "python",
   "pygments_lexer": "ipython3",
   "version": "3.6.8"
  }
 },
 "nbformat": 4,
 "nbformat_minor": 4
}
