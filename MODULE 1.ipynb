{
 "cells": [
  {
   "cell_type": "code",
   "execution_count": null,
   "metadata": {},
   "outputs": [],
   "source": [
    "#1)what is python?features of python\n",
    "#ans:\n",
    "Python is an interpreted,object-oriented, high-level programming language with\n",
    "dynamic semantics.Its high-level built in data structures, combined with dynamic typing and dynamic\n",
    "binding, make it very attractive for Rapid Application Development.Python supports modules and packages, \n",
    "which encourages program modularity and code reuse. \n",
    "\n",
    "\n",
    "#features of python:\n",
    "Clean syntax plus high-level data types\n",
    "Leads to fast coding (First language in many universities abroad!)\n",
    "Uses white-space to delimit blocks\n",
    "Humans generally do, so why not the language?\n",
    "Try it, you will end up liking it\n",
    "Variables do not need declaration\n",
    "Although not a type-less language"
   ]
  },
  {
   "cell_type": "code",
   "execution_count": 2,
   "metadata": {},
   "outputs": [
    {
     "name": "stdout",
     "output_type": "stream",
     "text": [
      "3.6.8\n"
     ]
    }
   ],
   "source": [
    "#2)Write a Python program to get the Python version you are using?\n",
    "import platform\n",
    "print(platform.python_version())"
   ]
  },
  {
   "cell_type": "code",
   "execution_count": null,
   "metadata": {},
   "outputs": [],
   "source": [
    "#3)Is python the right choice for Web based Programming?\n",
    "#ans:\n",
    "yes python is the right choice for Web based Programming because the python is very simple programing \n",
    "and line by line exicution thats why......."
   ]
  },
  {
   "cell_type": "code",
   "execution_count": null,
   "metadata": {},
   "outputs": [],
   "source": [
    "#4)Why was the language called as Python?\n",
    "#ans:\n",
    "the name of founder of python is gvido van rossan ans he foound the python from the name of his frvt tv show \n",
    "mounty python flying circe from the language of ABC......."
   ]
  },
  {
   "cell_type": "code",
   "execution_count": 6,
   "metadata": {},
   "outputs": [
    {
     "name": "stdout",
     "output_type": "stream",
     "text": [
      "enter the nmber u want to check::0\n",
      "the number is zero\n"
     ]
    }
   ],
   "source": [
    "#5)write a Python program to check if a number is positive, negative or zero.\n",
    "#ans:\n",
    "a=int(input('enter the nmber u want to check::'))\n",
    "if(a>0):\n",
    "    print('the number is possitive')\n",
    "elif(a<0):\n",
    "    print('the number id negative')\n",
    "elif(a==0):\n",
    "    print('the number is zero')"
   ]
  },
  {
   "cell_type": "code",
   "execution_count": null,
   "metadata": {},
   "outputs": [],
   "source": [
    "#6)What is the language from which Python has got its features or derived its features?\n",
    "#ans:\n",
    "ABC language is the language from which Python has got its features or derived its features"
   ]
  },
  {
   "cell_type": "code",
   "execution_count": 58,
   "metadata": {},
   "outputs": [
    {
     "name": "stdout",
     "output_type": "stream",
     "text": [
      "Enter your number::ww\n",
      "User input is string \n"
     ]
    }
   ],
   "source": [
    "#7)Write a Python program to check if variable is of integer or string\n",
    "#Ans:\n",
    "user=input(\"Enter your number::\")\n",
    "\n",
    "if type(user)==int:\n",
    "    print(\"User input is int \")\n",
    "else:\n",
    "    print(\"User input is string \")\n"
   ]
  },
  {
   "cell_type": "code",
   "execution_count": 48,
   "metadata": {},
   "outputs": [
    {
     "ename": "SyntaxError",
     "evalue": "invalid syntax (<ipython-input-48-2b9ebeb71179>, line 3)",
     "output_type": "error",
     "traceback": [
      "\u001b[1;36m  File \u001b[1;32m\"<ipython-input-48-2b9ebeb71179>\"\u001b[1;36m, line \u001b[1;32m3\u001b[0m\n\u001b[1;33m    No python does not support switch or case statement in Python\u001b[0m\n\u001b[1;37m            ^\u001b[0m\n\u001b[1;31mSyntaxError\u001b[0m\u001b[1;31m:\u001b[0m invalid syntax\n"
     ]
    }
   ],
   "source": [
    "#8)Does python support switch or case statement in Python? If not what is the reason for the same?\n",
    "#ans:\n",
    "No python does not support switch or case statement in Python"
   ]
  },
  {
   "cell_type": "code",
   "execution_count": 49,
   "metadata": {},
   "outputs": [
    {
     "ename": "SyntaxError",
     "evalue": "invalid syntax (<ipython-input-49-4db699e6858d>, line 3)",
     "output_type": "error",
     "traceback": [
      "\u001b[1;36m  File \u001b[1;32m\"<ipython-input-49-4db699e6858d>\"\u001b[1;36m, line \u001b[1;32m3\u001b[0m\n\u001b[1;33m    main reason id the code is read line by line thn python is interpreted\u001b[0m\n\u001b[1;37m              ^\u001b[0m\n\u001b[1;31mSyntaxError\u001b[0m\u001b[1;31m:\u001b[0m invalid syntax\n"
     ]
    }
   ],
   "source": [
    "#9)How Python is interpreted\n",
    "#ans:\n",
    "main reason id the code is read line by line thn python is interpreted"
   ]
  },
  {
   "cell_type": "code",
   "execution_count": 59,
   "metadata": {},
   "outputs": [
    {
     "name": "stdout",
     "output_type": "stream",
     "text": [
      "enter thr number::5\n",
      "The factorial of 5 is 120\n"
     ]
    }
   ],
   "source": [
    "#10)Write a Python program to get the Factorial number of given number\n",
    "#ans:\n",
    "num=int(input('enter thr number::'))\n",
    "factorial=1\n",
    "if num == 0:\n",
    "    print(\"The factorial of 0 is 1\")\n",
    "else:\n",
    "    for i in range(1,num + 1):\n",
    "        factorial = factorial*i\n",
    "    print(\"The factorial of\",num,\"is\",factorial)"
   ]
  },
  {
   "cell_type": "code",
   "execution_count": null,
   "metadata": {},
   "outputs": [],
   "source": [
    "#11)Write a Python program to get the Fibonacci series of given range\n",
    "#ans:\n",
    "a=0\n",
    "b=1\n",
    "fib=int(input(\"enter value\"))\n",
    "if fib==0:\n",
    "    print(\"0\")\n",
    "elif fib==1:\n",
    "    print(\"1\")\n",
    "else:\n",
    "    for fib in range(2,fib):\n",
    "        c=a+b\n",
    "        a=b\n",
    "        b=c\n",
    "        return b"
   ]
  },
  {
   "cell_type": "code",
   "execution_count": null,
   "metadata": {},
   "outputs": [],
   "source": [
    "#12)How memory is managed in Python?\n",
    "#ans:\n",
    "\"\"\"Memory management in Python involves a private heap containing all Python \n",
    "objects and data structures. ... At the lowest level, a raw memory allocator \n",
    "ensures that there is enough room in the private heap for storing all Python-related \n",
    "data by interacting with the memory manager of the operating system.\"\"\""
   ]
  },
  {
   "cell_type": "code",
   "execution_count": null,
   "metadata": {},
   "outputs": [],
   "source": [
    "#13)What is namespace in Python?\n",
    "#ans:\n",
    "Namespaces in Python are implemented as Python dictionaries, \n",
    "this means it is a mapping from names (keys) to objects (values)."
   ]
  },
  {
   "cell_type": "code",
   "execution_count": null,
   "metadata": {},
   "outputs": [],
   "source": [
    "#14)What is the purpose continue statement in python?\n",
    "#ans:\n",
    "Python Continue Statement. The continue statement is used inside a loop to skip the rest\n",
    "of the statements in the body of loop for the current iteration and jump to the beginning of\n",
    "the loop for next iteration.\n",
    "example:\n",
    "for a in \"string\":\n",
    "    if a==\"i\":\n",
    "        continue\n",
    "    print(a)    "
   ]
  },
  {
   "cell_type": "code",
   "execution_count": 30,
   "metadata": {},
   "outputs": [
    {
     "name": "stdout",
     "output_type": "stream",
     "text": [
      "Enter A::a\n",
      "Enter B::b\n",
      "value of A after swapping: b\n",
      "value of A after swapping: a\n"
     ]
    }
   ],
   "source": [
    "#I1)Write python program that swap two number with temp variable and without temp variable\n",
    "a= input(\"Enter A::\")\n",
    "b= input(\"Enter B::\")\n",
    "temp=a\n",
    "a=b\n",
    "b=temp\n",
    "print('value of A after swapping:',a)\n",
    "print('value of A after swapping:',b)"
   ]
  },
  {
   "cell_type": "code",
   "execution_count": 29,
   "metadata": {},
   "outputs": [
    {
     "name": "stdout",
     "output_type": "stream",
     "text": [
      "Enter X::10\n",
      "Enter Y::20\n",
      "value of A after swapping: 20\n",
      "value of A after swapping: 10\n"
     ]
    }
   ],
   "source": [
    "#I2)without temp variable\n",
    "#ans:\n",
    "x=int((input(\"Enter X::\")))\n",
    "y=int((input(\"Enter Y::\")))\n",
    "x=x+y \n",
    "y=x-y\n",
    "x=x-y\n",
    "print('value of A after swapping:',x)\n",
    "print('value of A after swapping:',y)"
   ]
  },
  {
   "cell_type": "code",
   "execution_count": 1,
   "metadata": {},
   "outputs": [
    {
     "name": "stdout",
     "output_type": "stream",
     "text": [
      "Enter a number: 6\n",
      "even\n"
     ]
    }
   ],
   "source": [
    "#I3)Write a Python program to find whether a given number is even or odd,print out an appropriate message to the user\n",
    "#ans:\n",
    "a= int(input(\"Enter a number: \"))\n",
    "if (a % 2) == 0:\n",
    "    print('even')\n",
    "else:\n",
    "    print('odd')"
   ]
  },
  {
   "cell_type": "code",
   "execution_count": null,
   "metadata": {},
   "outputs": [
    {
     "name": "stdout",
     "output_type": "stream",
     "text": [
      "Enter a B of triangle: 6\n"
     ]
    }
   ],
   "source": [
    "#I3)Write a Python program that compute the area of following (1) Triangle (accepts base and height)\n",
    "#ans:\n",
    "a=int(input(\"Enter a B of triangle: \"))\n",
    "b=int(input(\"Enter a H of triangle: \"))\n",
    "c=a*b*0.5\n",
    "print('the area of triangle is',c)"
   ]
  },
  {
   "cell_type": "code",
   "execution_count": 6,
   "metadata": {},
   "outputs": [
    {
     "name": "stdout",
     "output_type": "stream",
     "text": [
      "Enter a R of circle: 5\n",
      "the area of triangle is 78.5\n"
     ]
    }
   ],
   "source": [
    "#2) Circle (accept radius)\n",
    "#ans:\n",
    "r=int(input(\"Enter a R of circle: \"))\n",
    "c=3.14*r**2\n",
    "print('the area of circle is',c)"
   ]
  },
  {
   "cell_type": "code",
   "execution_count": 22,
   "metadata": {},
   "outputs": [
    {
     "name": "stdout",
     "output_type": "stream",
     "text": [
      "Enter the alphabet: c\n",
      "this is consonant\n"
     ]
    }
   ],
   "source": [
    "#I4)Write a Python program to test whether a passed letter is a vowel or not\n",
    "#ans:\n",
    "a=input(\"Enter the alphabet: \")\n",
    "if a in ('a','e','i','o','u','A'):\n",
    "    print('this is vowel')\n",
    "else:\n",
    "    print('this is consonant')"
   ]
  },
  {
   "cell_type": "code",
   "execution_count": 60,
   "metadata": {},
   "outputs": [
    {
     "name": "stdout",
     "output_type": "stream",
     "text": [
      "Enter the value of P: 5000\n",
      "Enter the value of R: 5\n",
      "Enter the value of N: 5\n",
      "the intrest is 1250.0\n"
     ]
    }
   ],
   "source": [
    "#I5)Write a Python program to compute the value of a specified principal amount, rate of interest, and a number of years\n",
    "#ans:\n",
    "p= int(input(\"Enter the value of P: \"))\n",
    "r= int(input(\"Enter the value of R: \"))\n",
    "n= int(input(\"Enter the value of N: \"))\n",
    "c=p*n*r/100\n",
    "print('the intrest is',c)"
   ]
  },
  {
   "cell_type": "code",
   "execution_count": null,
   "metadata": {},
   "outputs": [],
   "source": [
    "#I6)What are the tools that help to find bugs or perform static analysis?\n",
    "#ans:\n",
    "\"\"\"Pychecker and Pylint are the static analysis tools that help to find bugs in python. \n",
    "Pychecker is an opensource tool for static analysis that detects the bugs from source \n",
    "code and warns about the style and complexity of the bug.\"\"\""
   ]
  },
  {
   "cell_type": "code",
   "execution_count": null,
   "metadata": {},
   "outputs": [],
   "source": [
    "#I7)What are Python decorators?\n",
    "#ans:\n",
    "\"\"\"A decorator is a design pattern in Python that allows a user to add new functionality \n",
    "to an existing object without modifying its structure.Decorators are usually called before\n",
    "the definition of a function you want to decorate.\n",
    "declare the function inside one function.....\"\"\""
   ]
  },
  {
   "cell_type": "code",
   "execution_count": null,
   "metadata": {},
   "outputs": [],
   "source": [
    "#I8)What is PEP 8?\n",
    "#ans:\n",
    "\"\"\"PEP 8 is Pythons style guide. It is a set of rules for how to format your Python \n",
    "code to maximize its readability. Writing code to a specification helps to make large code\n",
    "bases, with lots of writers, more uniform and predictable, too. ... PEP is actually an acronym \n",
    "that stands for Python Enhancement Proposal\"\"\""
   ]
  },
  {
   "cell_type": "code",
   "execution_count": 4,
   "metadata": {},
   "outputs": [
    {
     "name": "stdout",
     "output_type": "stream",
     "text": [
      "Enter the value of a: 20\n",
      "Enter the value of b: 30\n",
      "Enter the value of c: 40\n",
      "40\n",
      "30\n",
      "20\n"
     ]
    }
   ],
   "source": [
    "#Write a Python program to sort three integers without using conditional statements and loops\n",
    "#ans:\n",
    "a= int(input(\"Enter the value of a: \"))\n",
    "b= int(input(\"Enter the value of b: \"))\n",
    "c= int(input(\"Enter the value of c: \"))\n",
    "print(max(a,b,c))\n",
    "print(a+b+c-max(a,b,c)-min(a,b,c))\n",
    "print(min(a,b,c))"
   ]
  },
  {
   "cell_type": "code",
   "execution_count": null,
   "metadata": {},
   "outputs": [],
   "source": [
    "#Write a Python program that accepts an integer (n) and computes the value of n+nn+nnn.\n",
    "#ans:\n",
    "a = int(input(\"Input an integer : \"))\n",
    "n1 = int( \"%s\" % a )\n",
    "n2 = int( \"%s%s\" % (a,a) )\n",
    "n3 = int( \"%s%s%s\" % (a,a,a) )\n",
    "print (n1+n2+n3)"
   ]
  },
  {
   "cell_type": "code",
   "execution_count": 5,
   "metadata": {},
   "outputs": [
    {
     "name": "stdout",
     "output_type": "stream",
     "text": [
      "Enter the value of a: sp\n",
      "2\n"
     ]
    }
   ],
   "source": [
    "########Topic: String manipulation##############\n",
    "#B1.Write a Python program to calculate the length of a string.\n",
    "a= input(\"Enter the value of a: \")\n",
    "print(len(a))"
   ]
  },
  {
   "cell_type": "code",
   "execution_count": 12,
   "metadata": {},
   "outputs": [
    {
     "data": {
      "text/plain": [
       "2"
      ]
     },
     "execution_count": 12,
     "metadata": {},
     "output_type": "execute_result"
    }
   ],
   "source": [
    "#B2.Write a Python program to count the number of characters (character frequency) in a string\n",
    "#ans:\n",
    "a='smitpatelsp'\n",
    "a.count('s')"
   ]
  },
  {
   "cell_type": "code",
   "execution_count": null,
   "metadata": {},
   "outputs": [],
   "source": [
    "#B3.What are negative indexes and why are they used?\n",
    "#ans:\n",
    "\"\"\"The negative index is used to remove any new-line spaces from the \n",
    "string and allow the string to except the last character that is given as S[:-1]. \n",
    "The negative index is also used to show the index to represent the string in correct \n",
    "order. index s are used in arrays in all programming languages.\"\"\""
   ]
  },
  {
   "cell_type": "code",
   "execution_count": null,
   "metadata": {},
   "outputs": [],
   "source": [
    "#B4.Explain split(), sub(), subn() methods of “re” module in Python.\n",
    "#ans:\n",
    "\"\"\"split() – uses a regex pattern to “split” a given string into a list.\n",
    "sub() – finds all substrings where the regex pattern matches and then replace them with a different string.\n",
    "subn() – it is similar to sub() and also returns the new string along with the no. of. replacements.\"\""
   ]
  },
  {
   "cell_type": "code",
   "execution_count": 3,
   "metadata": {},
   "outputs": [
    {
     "name": "stdout",
     "output_type": "stream",
     "text": [
      "2\n"
     ]
    }
   ],
   "source": [
    "#B6.Write a Python program to count occurrences of a substring in a string\n",
    "#ans:\n",
    "a=\"my name is smit patel what is yours\"\n",
    "substring='is'\n",
    "b=a.count(substring)\n",
    "print(b)"
   ]
  },
  {
   "cell_type": "code",
   "execution_count": 4,
   "metadata": {},
   "outputs": [
    {
     "name": "stdout",
     "output_type": "stream",
     "text": [
      "33\n"
     ]
    }
   ],
   "source": [
    "#B7. Write a Python program to count the occurrences of each word in a given sentence\n",
    "#ans:\n",
    "a=\"my name is smit jayeshkumar patel\"\n",
    "print(len(a))\n",
    "\n",
    "'''threw dict\n",
    "\n",
    "c=raw_input(\"Enter string:\")\n",
    "b=raw_input(\"Enter word:\")\n",
    "a=[]\n",
    "count=0\n",
    "a=c.split(\" \")\n",
    "for i in range(0,len(a)):\n",
    "      if(word==a[i]):\n",
    "            count=count+1\n",
    "print(\"Count of the word is:\")\n",
    "print(count)\n",
    "\n",
    "\"\"\""
   ]
  },
  {
   "cell_type": "code",
   "execution_count": null,
   "metadata": {},
   "outputs": [],
   "source": [
    "#I1.Write a Python program to get a single string from two given strings,separated \n",
    "by a space and swap the first two characters of each string."
   ]
  },
  {
   "cell_type": "code",
   "execution_count": null,
   "metadata": {},
   "outputs": [],
   "source": [
    "#I2.Write a Python program to add 'ing' at the end of a given string\n",
    "#length should be at least 3). If the given string already ends with 'ing' then add 'ly' instead\n",
    "#If the string length of the given string is less than 3, leave it unchanged\n",
    "a=input('enter string')\n",
    "if len(a)>3:\n",
    "    if a[-1]=='g' and a[-2]=='n' and a[-3]=='i':\n",
    "        print(a+'ly')\n",
    "    else:\n",
    "        print(a+'ing')\n",
    "else:\n",
    "    print(a)\n",
    "        "
   ]
  },
  {
   "cell_type": "code",
   "execution_count": 2,
   "metadata": {},
   "outputs": [
    {
     "name": "stdout",
     "output_type": "stream",
     "text": [
      "enter first sting::sp\n",
      "enter second sting:smit\n",
      "enter third sting:smitp\n",
      "smitp\n"
     ]
    }
   ],
   "source": [
    "#I4. Write a Python function that takes a list of words and returns the length of the longest one.\n",
    "'''list'''\n",
    "a=input('enter first sting::')\n",
    "b=input('enter second sting:')\n",
    "c=input('enter third sting:')\n",
    "if len(a)>len(b):\n",
    "    if len(a)>len(c):\n",
    "        print(a)\n",
    "elif len(b)>len(c):\n",
    "        if len(b)>len(a):\n",
    "            print(b)\n",
    "else:\n",
    "    print(c)"
   ]
  },
  {
   "cell_type": "code",
   "execution_count": 1,
   "metadata": {},
   "outputs": [
    {
     "name": "stdout",
     "output_type": "stream",
     "text": [
      "enter sting====>sp\n",
      "number of length is not divode with the 4\n"
     ]
    }
   ],
   "source": [
    "#I5. Write a Python function to reverses a string if it's length is a multiple of 4\n",
    "a=input('enter sting====>')\n",
    "c=len(a)\n",
    "##int(c)\n",
    "if c%4==0:\n",
    "    print(a[::-1])\n",
    "else:\n",
    "    print(\"number of length is not divode with the 4\")"
   ]
  },
  {
   "cell_type": "code",
   "execution_count": 38,
   "metadata": {},
   "outputs": [
    {
     "name": "stdout",
     "output_type": "stream",
     "text": [
      "enter a string=>45\n",
      "4545\n"
     ]
    }
   ],
   "source": [
    "'''A1.Write a Python program to get a string made of the first 2 and the last 2 chars\n",
    "from a given a string If the string length is less than 2, return instead of the empty string.\n",
    "Go to the editor........\n",
    "\n",
    "Sample String : 'w3resource'\n",
    "Expected Result : 'w3ce'\n",
    "Sample String : 'w3'\n",
    "Expected Result : 'w3w3'\n",
    "Sample String : ' w'\n",
    "Expected Result : Empty String '''\n",
    "\n",
    "a=input(\"enter a string=>\")\n",
    "c=len(a)\n",
    "if c<2:\n",
    "    print('empty string')\n",
    "else:\n",
    "    print(a[0:2]+a[-2:])"
   ]
  }
 ],
 "metadata": {
  "kernelspec": {
   "display_name": "Python 3",
   "language": "python",
   "name": "python3"
  },
  "language_info": {
   "codemirror_mode": {
    "name": "ipython",
    "version": 3
   },
   "file_extension": ".py",
   "mimetype": "text/x-python",
   "name": "python",
   "nbconvert_exporter": "python",
   "pygments_lexer": "ipython3",
   "version": "3.6.8"
  }
 },
 "nbformat": 4,
 "nbformat_minor": 4
}
