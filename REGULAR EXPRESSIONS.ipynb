{
 "cells": [
  {
   "cell_type": "code",
   "execution_count": null,
   "metadata": {},
   "outputs": [],
   "source": [
    "#operation\n",
    "#1.search a string(search and match)\n",
    "#2.finding a string(findall)\n",
    "#3.break string into a sub string (split)\n",
    "#4.replace part of a string(sub)\n",
    "\n",
    "\n",
    "#methods\n",
    "#1.re.match()\n",
    "#2.re.search()\n",
    "#3.re.findall()\n",
    "#4.re.split()\n",
    "#5.re.sub()\n",
    "#6.re.compile()"
   ]
  },
  {
   "cell_type": "code",
   "execution_count": 6,
   "metadata": {},
   "outputs": [
    {
     "data": {
      "text/plain": [
       "['11-12-2012', '12-01-2007', '11-08-2000']"
      ]
     },
     "execution_count": 6,
     "metadata": {},
     "output_type": "execute_result"
    }
   ],
   "source": [
    "#example\n",
    "\n",
    "import re\n",
    "st='amit 34-6656 11-12-2012 manan 35-6656 12-01-2007 aakash 34-6546 11-08-2000'\n",
    "re.findall('\\d{2}-\\d{2}-\\d{4}',st)"
   ]
  },
  {
   "cell_type": "code",
   "execution_count": 9,
   "metadata": {},
   "outputs": [
    {
     "name": "stdout",
     "output_type": "stream",
     "text": [
      " not match the '\\o\\ in \\tops technologies'\n"
     ]
    }
   ],
   "source": [
    "#1.  re.match(pattern,name_of_string):\n",
    "        #if it occurs at start of the string(start a hoy to j aavashe)\n",
    "\n",
    "string='tops technologies'\n",
    "st='o'\n",
    "r=re.match(st,string)\n",
    "if r:\n",
    "    print(\"match the \\%s\\'in \\%s\\'\"%(st,string))\n",
    "else:\n",
    "    print(\" not match the '\\%s\\ in \\%s\\'\"%(st,string))"
   ]
  },
  {
   "cell_type": "code",
   "execution_count": 10,
   "metadata": {},
   "outputs": [
    {
     "name": "stdout",
     "output_type": "stream",
     "text": [
      "match the \\o'in \\tops technologies'\n"
     ]
    }
   ],
   "source": [
    "#2.  re.search(pattern,string):\n",
    "\n",
    "#return a match object if there is a match anywhere in a string(game tya hoy aavashe hoy to j aavashe)\n",
    "\n",
    "string='tops technologies'\n",
    "st='o'\n",
    "r=re.search(st,string)\n",
    "if r:\n",
    "    print(\"match the \\%s\\'in \\%s\\'\"%(st,string))\n",
    "else:\n",
    "    print(\" not match the \\%s\\'in \\%s\\'\"%(st,string))"
   ]
  },
  {
   "cell_type": "code",
   "execution_count": null,
   "metadata": {},
   "outputs": [],
   "source": [
    "\"\"\"\n",
    ".span() returns a tuple containing the start and end possition of the match\n",
    ".string() return the string passed into the function\n",
    ".group() returns the part of the string where there was a match\n",
    "\n",
    "\"\"\""
   ]
  },
  {
   "cell_type": "code",
   "execution_count": null,
   "metadata": {},
   "outputs": [],
   "source": [
    "#difference::\n",
    "\n",
    "both return first match f a substring found in the string,but re.match()\n",
    "search only in the first line of the string and reaturn match object if found,else return none\n",
    "\n",
    "while re.search() searches for the wholestring even if the string contains multi-lines and tried to find \n",
    "a match of the substring in all the linesof sring\n",
    "\n",
    "*search():  scan through whole string\n",
    "\n",
    "*match():does only beginning of the string"
   ]
  },
  {
   "cell_type": "code",
   "execution_count": 2,
   "metadata": {},
   "outputs": [
    {
     "name": "stdout",
     "output_type": "stream",
     "text": [
      "['o', 'o', 'o']\n"
     ]
    }
   ],
   "source": [
    "#3. findall(pattern,name_of_string)\n",
    "            #return a list containing all matches\n",
    "            #if no matches are found,an empty list is returned\n",
    "        \n",
    "import re\n",
    "sttrr=\"tops technologies\"\n",
    "r=re.findall(r'o',sttrr)#operation stored in the on variable r\n",
    "print(r)"
   ]
  },
  {
   "cell_type": "code",
   "execution_count": 3,
   "metadata": {},
   "outputs": [
    {
     "data": {
      "text/plain": [
       "3"
      ]
     },
     "execution_count": 3,
     "metadata": {},
     "output_type": "execute_result"
    }
   ],
   "source": [
    "#or its return a list contains \n",
    "len(r)"
   ]
  },
  {
   "cell_type": "code",
   "execution_count": 5,
   "metadata": {},
   "outputs": [
    {
     "name": "stdout",
     "output_type": "stream",
     "text": [
      "['t', 'ps techn', 'l', 'gies']\n"
     ]
    }
   ],
   "source": [
    "#4. split(pattern,name_of_string,[maximumsplit=0])\n",
    "                #return a list where the string has been split at each match\n",
    "import re\n",
    "string='tops technologies'\n",
    "r=re.split(r'o',string,)#all the time of word o it split the string\n",
    "print(r)"
   ]
  },
  {
   "cell_type": "code",
   "execution_count": 1,
   "metadata": {},
   "outputs": [
    {
     "name": "stdout",
     "output_type": "stream",
     "text": [
      "['t', 'ps technologies']\n"
     ]
    }
   ],
   "source": [
    "#or\n",
    "import re\n",
    "string='tops technologies'\n",
    "r=re.split(r'o',string,1)#1 shoes it split the string in only one place\n",
    "print(r)"
   ]
  },
  {
   "cell_type": "code",
   "execution_count": 7,
   "metadata": {},
   "outputs": [
    {
     "name": "stdout",
     "output_type": "stream",
     "text": [
      "TT is largest training compony of the word\n"
     ]
    }
   ],
   "source": [
    "#5. sub(pattern,repl,string)\n",
    "        #replace one or many matches with a string\n",
    "\n",
    "result=re.sub(r'India','the word','TT is largest training compony of India')#cahnge india with the word of the word\n",
    "print(result)"
   ]
  },
  {
   "cell_type": "code",
   "execution_count": 8,
   "metadata": {},
   "outputs": [
    {
     "name": "stdout",
     "output_type": "stream",
     "text": [
      "['T', 'T', 'T']\n"
     ]
    }
   ],
   "source": [
    "#6.compile(pattern)\n",
    "\n",
    "pattern=re.compile('T')\n",
    "result=pattern.findall('TT is largest Training community of India')\n",
    "print(result)"
   ]
  },
  {
   "cell_type": "code",
   "execution_count": null,
   "metadata": {},
   "outputs": [],
   "source": [
    "#Matacharacters\\\\\\\\\n",
    "\n",
    "#[] : a set of characters \"[a-m]\"\n",
    "\n",
    "#\\ :single a special sequence(can also be used to escspe special characters)\n",
    "\n",
    "#. :any character(exept newline character)____\"he..o"
   ]
  },
  {
   "cell_type": "code",
   "execution_count": null,
   "metadata": {},
   "outputs": [],
   "source": []
  },
  {
   "cell_type": "code",
   "execution_count": null,
   "metadata": {},
   "outputs": [],
   "source": []
  },
  {
   "cell_type": "code",
   "execution_count": null,
   "metadata": {},
   "outputs": [],
   "source": []
  },
  {
   "cell_type": "code",
   "execution_count": null,
   "metadata": {},
   "outputs": [],
   "source": []
  },
  {
   "cell_type": "code",
   "execution_count": 21,
   "metadata": {},
   "outputs": [
    {
     "data": {
      "text/plain": [
       "['h']"
      ]
     },
     "execution_count": 21,
     "metadata": {},
     "output_type": "execute_result"
    }
   ],
   "source": [
    "# ^ : start with \"^hello\"\n",
    "\n",
    "import re\n",
    "t=\"hello\"\n",
    "re.findall('^h',t)"
   ]
  },
  {
   "cell_type": "code",
   "execution_count": 11,
   "metadata": {},
   "outputs": [
    {
     "data": {
      "text/plain": [
       "['ai', 'ai']"
      ]
     },
     "execution_count": 11,
     "metadata": {},
     "output_type": "execute_result"
    }
   ],
   "source": [
    "# $ :ends with------\"world$\"\n",
    "# * :zero or more occurrences---\"ai*\"\n",
    "\n",
    "txt=\"the rain in spain\"\n",
    "re.findall('ai*',txt)"
   ]
  },
  {
   "cell_type": "code",
   "execution_count": 12,
   "metadata": {},
   "outputs": [
    {
     "data": {
      "text/plain": [
       "['in']"
      ]
     },
     "execution_count": 12,
     "metadata": {},
     "output_type": "execute_result"
    }
   ],
   "source": [
    "re.findall('in$',txt)"
   ]
  },
  {
   "cell_type": "code",
   "execution_count": null,
   "metadata": {},
   "outputs": [],
   "source": [
    "#\\d: matches with digits [0-9] and \\D(upper case D) matches with non-digit\n",
    "\n",
    "#\\s: matches with a single white space character(space,newline,return,tab,form)\n",
    "        #and \\S(upper case S) matches any non-white space character.\n",
    "    \n",
    "#\\A:return a match if the specified chararcter are at the biggining of the string----\"\\Athe\"\n",
    "\n",
    "#\\Z:returns a match if the specified character are at the end of the string----\"spain\\Z\"\n",
    "\n",
    "#\\b:returns a match where the specified character are at the biggining or at the end of a word---r\"\\bain\"r\"ain\\b\n",
    "\n",
    "#B :returns a match where the specified character are present,but not at the begining(or at the end) of a word----r\"\\Bain\"r\"ain\\B\"\n",
    "\n",
    "#[] :a set is a set of charater inside a pair of square brackets [] with a special meaning "
   ]
  },
  {
   "cell_type": "code",
   "execution_count": 13,
   "metadata": {},
   "outputs": [
    {
     "data": {
      "text/plain": [
       "['ain', 'ain']"
      ]
     },
     "execution_count": 13,
     "metadata": {},
     "output_type": "execute_result"
    }
   ],
   "source": [
    "import re\n",
    "txt=\"the rain 1234 5678 in spain\"\n",
    "re.findall(r'ain\\b',txt)"
   ]
  },
  {
   "cell_type": "code",
   "execution_count": 14,
   "metadata": {},
   "outputs": [
    {
     "data": {
      "text/plain": [
       "['i']"
      ]
     },
     "execution_count": 14,
     "metadata": {},
     "output_type": "execute_result"
    }
   ],
   "source": [
    "re.findall(r'\\bi',txt)"
   ]
  },
  {
   "cell_type": "code",
   "execution_count": 16,
   "metadata": {},
   "outputs": [
    {
     "data": {
      "text/plain": [
       "['the']"
      ]
     },
     "execution_count": 16,
     "metadata": {},
     "output_type": "execute_result"
    }
   ],
   "source": [
    "re.findall(r'\\Athe',txt)"
   ]
  },
  {
   "cell_type": "code",
   "execution_count": 20,
   "metadata": {},
   "outputs": [
    {
     "data": {
      "text/plain": [
       "'the rain 1234 5678 in spain'"
      ]
     },
     "execution_count": 20,
     "metadata": {},
     "output_type": "execute_result"
    }
   ],
   "source": [
    "txt"
   ]
  },
  {
   "cell_type": "code",
   "execution_count": 18,
   "metadata": {},
   "outputs": [
    {
     "name": "stdout",
     "output_type": "stream",
     "text": [
      "['r', 'a', 'n', 'n', 'a', 'n']\n"
     ]
    }
   ],
   "source": [
    "#[arn]---returns a match where of the specifies character (a,r,or n) are present\n",
    "x=re.findall(\"[arn]\",txt)\n",
    "print(x)http://localhost:8888/kernelspecs/python3/logo-64x64.png"
   ]
  },
  {
   "cell_type": "code",
   "execution_count": 19,
   "metadata": {},
   "outputs": [
    {
     "name": "stdout",
     "output_type": "stream",
     "text": [
      "['e', 'a', 'a']\n"
     ]
    }
   ],
   "source": [
    "x=re.findall(\"[a-e]\",txt)\n",
    "print(x)"
   ]
  },
  {
   "cell_type": "code",
   "execution_count": 22,
   "metadata": {},
   "outputs": [
    {
     "name": "stdout",
     "output_type": "stream",
     "text": [
      "['t', 'h', 'e', ' ', 'i', ' ', '1', '2', '3', '4', ' ', '5', '6', '7', '8', ' ', 'i', ' ', 's', 'p', 'i']\n"
     ]
    }
   ],
   "source": [
    "#[^arn]---returns a match for any character EXEPT a,r or n\n",
    "x=re.findall('[^arn]',txt)\n",
    "print(x)"
   ]
  },
  {
   "cell_type": "code",
   "execution_count": null,
   "metadata": {},
   "outputs": [],
   "source": [
    "\"\"\"\n",
    "\n",
    "\n",
    "[0123] : returns a match where any to the specified digit (0,1,2 or 3) are present----\n",
    "[0-9] : returns a match for any digit between 0 and 9---\n",
    "[0-5][0-9] : returns a match for any two-digit number from 00 and 59--\n",
    "[a-zA-Z] : returns a match for any charecter alphabetically between a and z.lower case or uper case A to Z\n",
    "[+] : in sets,+,=,.,|,(),$,{} has no special meaning, so [+] means:returns a match for any + caracter\n",
    "\n",
    "\n",
    "\"\"\""
   ]
  },
  {
   "cell_type": "code",
   "execution_count": 5,
   "metadata": {},
   "outputs": [
    {
     "name": "stdout",
     "output_type": "stream",
     "text": [
      "['m']\n"
     ]
    }
   ],
   "source": [
    "\"\"\"home work\"\"\"\n",
    "#problm 1:return the first word of a given string\n",
    "\n",
    "import re\n",
    "s=\"myname_issmitpatel\"\n",
    "r=re.findall(r'\\b\\w{1}',s)\n",
    "print(r)"
   ]
  },
  {
   "cell_type": "code",
   "execution_count": 4,
   "metadata": {},
   "outputs": [
    {
     "name": "stdout",
     "output_type": "stream",
     "text": [
      "['my']\n"
     ]
    }
   ],
   "source": [
    "#problm 2:return the two word of a given string\n",
    "\n",
    "import re\n",
    "s=\"myname_issmitpatel\"\n",
    "r=re.findall(r'\\b\\w{2}',s)\n",
    "print(r)"
   ]
  },
  {
   "cell_type": "code",
   "execution_count": 8,
   "metadata": {},
   "outputs": [
    {
     "name": "stdout",
     "output_type": "stream",
     "text": [
      "['th', ' m', ' i', ' i', ' m']\n"
     ]
    }
   ],
   "source": [
    "#problem 3:return all words of a strinng thosw start with vowel\n",
    "\n",
    "import re\n",
    "s=\"the man is in market\"\n",
    "r=re.findall(r'\\b[^AEIOUaeiou]\\w',s)\n",
    "print(r)"
   ]
  },
  {
   "cell_type": "code",
   "execution_count": 9,
   "metadata": {},
   "outputs": [
    {
     "name": "stdout",
     "output_type": "stream",
     "text": [
      "['9785462521', '8785868452', '8128625226', '9429722265']\n"
     ]
    }
   ],
   "source": [
    "#problem 4:find valid number\n",
    "import re\n",
    "s='9785462521 1452369874 8785868452 7778036433 8128625226 9429722265'\n",
    "r=re.findall(r'[8-9]\\d{9}',s)\n",
    "print(r)"
   ]
  },
  {
   "cell_type": "code",
   "execution_count": null,
   "metadata": {},
   "outputs": [],
   "source": []
  }
 ],
 "metadata": {
  "kernelspec": {
   "display_name": "Python 3",
   "language": "python",
   "name": "python3"
  },
  "language_info": {
   "codemirror_mode": {
    "name": "ipython",
    "version": 3
   },
   "file_extension": ".py",
   "mimetype": "text/x-python",
   "name": "python",
   "nbconvert_exporter": "python",
   "pygments_lexer": "ipython3",
   "version": "3.6.8"
  }
 },
 "nbformat": 4,
 "nbformat_minor": 4
}
