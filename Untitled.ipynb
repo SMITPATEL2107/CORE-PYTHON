{
 "cells": [
  {
   "cell_type": "code",
   "execution_count": 6,
   "metadata": {},
   "outputs": [
    {
     "name": "stdout",
     "output_type": "stream",
     "text": [
      "enter the name:sp\n",
      "enter the roll number22\n",
      "sp\n",
      "22\n"
     ]
    }
   ],
   "source": [
    "class student():\n",
    "    sname=input(\"enter the name:\")\n",
    "    roll=input(\"enter the roll number\")\n",
    "    \n",
    "    def name(self):\n",
    "        print(self.sname)\n",
    "        print(self.roll)\n",
    "        \n",
    "s=student()\n",
    "s.name()"
   ]
  },
  {
   "cell_type": "code",
   "execution_count": 12,
   "metadata": {},
   "outputs": [],
   "source": [
    "class number():\n",
    "    num1=1\n",
    "    num2=2\n",
    "    \n",
    "    def plus(self):\n",
    "        print(self.num1+self.num2)\n",
    "        "
   ]
  },
  {
   "cell_type": "code",
   "execution_count": 13,
   "metadata": {},
   "outputs": [
    {
     "name": "stdout",
     "output_type": "stream",
     "text": [
      "3\n"
     ]
    }
   ],
   "source": [
    "c=number()\n",
    "c.plus()"
   ]
  },
  {
   "cell_type": "code",
   "execution_count": 1,
   "metadata": {},
   "outputs": [
    {
     "name": "stdout",
     "output_type": "stream",
     "text": [
      "enter the name of studentsp\n",
      "enter the roll number of student22\n",
      "sp\n",
      "22\n"
     ]
    }
   ],
   "source": [
    "class student():\n",
    "    def __init__(self,sname,roll):\n",
    "        self.sname=sname\n",
    "        self.roll=roll\n",
    "        \n",
    "    def name(self):\n",
    "        print(self.sname)\n",
    "        \n",
    "    def number(self):\n",
    "        print(self.roll)\n",
    "        \n",
    "sname=input(\"enter the name of student\")\n",
    "roll=input(\"enter the roll number of student\")\n",
    "\n",
    "s=student(sname,roll)\n",
    "s.name()\n",
    "s.number()"
   ]
  },
  {
   "cell_type": "code",
   "execution_count": 4,
   "metadata": {},
   "outputs": [
    {
     "name": "stdout",
     "output_type": "stream",
     "text": [
      "enter the name of carneno\n",
      "enter the colour of carred\n",
      "enter thename of companytata\n",
      "neno\n",
      "red\n",
      "tata\n"
     ]
    }
   ],
   "source": [
    "\"\"\"single level inheritence\"\"\"\n",
    "class car():\n",
    "    def __init__(self,name,colour):\n",
    "        self.colour=colour\n",
    "        self.name=name\n",
    "        \n",
    "    def show(self):\n",
    "        print(self.name)\n",
    "        print(self.colour)\n",
    "\n",
    "class comp(car):\n",
    "    def __init__(self,nmae,colour,company):\n",
    "        car.__init__(self,name,colour)\n",
    "        self.company=company\n",
    "    \n",
    "    def show1(self):\n",
    "        self.show()\n",
    "        print(self.company)\n",
    "\n",
    "name=input(\"enter the name of car\")\n",
    "color=input(\"enter the colour of car\")\n",
    "c=car(name,color)\n",
    "#c.show()\n",
    "companys=input(\"enter thename of company\")\n",
    "p=comp(name,color,companys)\n",
    "p.show1()"
   ]
  },
  {
   "cell_type": "code",
   "execution_count": 18,
   "metadata": {},
   "outputs": [
    {
     "name": "stdout",
     "output_type": "stream",
     "text": [
      "ente the name of studentwsp\n",
      "ente the roll number of student22\n",
      "ente the nmae of perentrsjayeshkpatel\n",
      "ente the nmae of teacherkaminijpatel\\\n",
      "wsp\n",
      "22\n",
      "jayeshkpatel\n",
      "kaminijpatel\\\n"
     ]
    }
   ],
   "source": [
    "class student():\n",
    "    def __init__(self,sname,roll):\n",
    "        self.sname=sname\n",
    "        self.roll=roll\n",
    "            \n",
    "    def show(self):\n",
    "        print(self.sname)\n",
    "        print(self.roll)\n",
    "            \n",
    "class perents(student):\n",
    "    def __init__(self,sname,roll,pname):\n",
    "        student.__init__(self,sname,roll)\n",
    "        self.pname=pname\n",
    "        \n",
    "    def show1(self):\n",
    "        self.show()\n",
    "        print(self.pname)\n",
    "\n",
    "class teachers(perents):\n",
    "    def __init__(self,sname,roll,pname,tname):\n",
    "        perents.__init__(self,sname,roll,pname)\n",
    "        self.tname=tname\n",
    "        \n",
    "    def show2(self):\n",
    "        self.show1()\n",
    "        print(self.tname)\n",
    "        \n",
    "a=input(\"ente the name of student\")\n",
    "b=input(\"ente the roll number of student\")\n",
    "s=student(a,b)\n",
    "c=input(\"ente the nmae of perentrs\")\n",
    "p=perents(a,b,c)\n",
    "d=input(\"ente the nmae of teacher\")\n",
    "t=teachers(a,b,c,d)\n",
    "t.show2()"
   ]
  },
  {
   "cell_type": "code",
   "execution_count": null,
   "metadata": {},
   "outputs": [],
   "source": []
  },
  {
   "cell_type": "code",
   "execution_count": null,
   "metadata": {},
   "outputs": [],
   "source": []
  },
  {
   "cell_type": "code",
   "execution_count": null,
   "metadata": {},
   "outputs": [],
   "source": [
    "()"
   ]
  }
 ],
 "metadata": {
  "kernelspec": {
   "display_name": "Python 3",
   "language": "python",
   "name": "python3"
  },
  "language_info": {
   "codemirror_mode": {
    "name": "ipython",
    "version": 3
   },
   "file_extension": ".py",
   "mimetype": "text/x-python",
   "name": "python",
   "nbconvert_exporter": "python",
   "pygments_lexer": "ipython3",
   "version": "3.6.8"
  }
 },
 "nbformat": 4,
 "nbformat_minor": 4
}
