{
 "cells": [
  {
   "cell_type": "code",
   "execution_count": 3,
   "metadata": {},
   "outputs": [],
   "source": [
    "def client_program():\n",
    "    host=socket.gethostname()  \n",
    "    port=5000 \n",
    "   \n",
    "    client_socket=socket.socket() \n",
    "    client_socket.connect((host,port))  \n",
    "   \n",
    "    message=input(\"->\") \n",
    "   \n",
    "    while message.lower().strip()!='bye':\n",
    "        client_socket.send(message.encode())  \n",
    "        data=client_socket.recv(1024).decode()  \n",
    "       \n",
    "        print('Recieved from server: '+data) \n",
    "       \n",
    "        message=input(\" -> \") \n",
    "       \n",
    "    client_socket.close()\n",
    "    \n",
    "   \n",
    "    if __name__=='__main__':\n",
    "        client_program()"
   ]
  },
  {
   "cell_type": "code",
   "execution_count": null,
   "metadata": {},
   "outputs": [],
   "source": []
  }
 ],
 "metadata": {
  "kernelspec": {
   "display_name": "Python 3",
   "language": "python",
   "name": "python3"
  },
  "language_info": {
   "codemirror_mode": {
    "name": "ipython",
    "version": 3
   },
   "file_extension": ".py",
   "mimetype": "text/x-python",
   "name": "python",
   "nbconvert_exporter": "python",
   "pygments_lexer": "ipython3",
   "version": "3.6.8"
  }
 },
 "nbformat": 4,
 "nbformat_minor": 4
}
