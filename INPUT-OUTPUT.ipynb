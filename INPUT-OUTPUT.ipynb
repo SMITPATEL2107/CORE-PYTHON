{
 "cells": [
  {
   "cell_type": "code",
   "execution_count": 28,
   "metadata": {},
   "outputs": [
    {
     "name": "stdout",
     "output_type": "stream",
     "text": [
      "<_io.TextIOWrapper name='smitp.txt' mode='r' encoding='cp1252'>\n"
     ]
    }
   ],
   "source": [
    "#how to read the text in python\n",
    "#open mode:three modes\n",
    "#open(\"file name\",\"open mode\")\n",
    "\n",
    "\"\"\"\n",
    "\"r\":read\n",
    "\"w\":write\n",
    "\"a\":append\n",
    "\"\"\"    \n",
    "\n",
    "file=open(\"smitp.txt\",\"r\")\n",
    "print(file)"
   ]
  },
  {
   "cell_type": "code",
   "execution_count": 15,
   "metadata": {},
   "outputs": [
    {
     "data": {
      "text/plain": [
       "'B1.What is Python ,Name some of the features of Python.\\nB2: Write a Python program to get the Python version you are using?\\nB3.Is python the right choice for Web based Programming?\\nB4.Why was the language called as Python?\\nB5.Write a Python program to check if a number is positive, negative or zero.'"
      ]
     },
     "execution_count": 15,
     "metadata": {},
     "output_type": "execute_result"
    }
   ],
   "source": [
    "#file_object.read()   \"\"\"completlly file read thase\"\"\"\n",
    "#name_of_file_obj.mode()\n",
    "\n",
    "\n",
    "file.read()"
   ]
  },
  {
   "cell_type": "code",
   "execution_count": 25,
   "metadata": {},
   "outputs": [
    {
     "data": {
      "text/plain": [
       "'B1.What is Python ,Name some of the features of Python.\\n'"
      ]
     },
     "execution_count": 25,
     "metadata": {},
     "output_type": "execute_result"
    }
   ],
   "source": [
    "#readline()        \"\"\"read only line\"\"\"\n",
    "\n",
    "file=open(\"smitp.txt\",\"r\")\n",
    "file.readline()"
   ]
  },
  {
   "cell_type": "code",
   "execution_count": 26,
   "metadata": {},
   "outputs": [
    {
     "data": {
      "text/plain": [
       "'B2: Write a Python program to get the Python version you are using?\\n'"
      ]
     },
     "execution_count": 26,
     "metadata": {},
     "output_type": "execute_result"
    }
   ],
   "source": [
    "file.readline() \"\"\"biji var biji line aaavashe pan aama open vadu nae karavu execute\"\"\""
   ]
  },
  {
   "cell_type": "code",
   "execution_count": 30,
   "metadata": {},
   "outputs": [
    {
     "data": {
      "text/plain": [
       "['B1.What is Python ,Name some of the features of Python.\\n',\n",
       " 'B2: Write a Python program to get the Python version you are using?\\n',\n",
       " 'B3.Is python the right choice for Web based Programming?\\n',\n",
       " 'B4.Why was the language called as Python?\\n',\n",
       " 'B5.Write a Python program to check if a number is positive, negative or zero.']"
      ]
     },
     "execution_count": 30,
     "metadata": {},
     "output_type": "execute_result"
    }
   ],
   "source": [
    "#readlines\n",
    "\"\"\"jya cousr hoy tyathi j badhi line show karashe \"\"\"\n",
    "file=open(\"smitp.txt\",\"r\")\n",
    "file.readlines()"
   ]
  },
  {
   "cell_type": "code",
   "execution_count": 43,
   "metadata": {},
   "outputs": [],
   "source": [
    "#write data in file\n",
    "#write()\n",
    "\n",
    "file=open(\"sp.txt\",\"w\")\n",
    "file.write(\"hello world\")\n",
    "file.close()"
   ]
  },
  {
   "cell_type": "code",
   "execution_count": 44,
   "metadata": {},
   "outputs": [
    {
     "data": {
      "text/plain": [
       "'hello world'"
      ]
     },
     "execution_count": 44,
     "metadata": {},
     "output_type": "execute_result"
    }
   ],
   "source": [
    "file=open(\"sp.txt\",\"r\")\n",
    "file.read()"
   ]
  },
  {
   "cell_type": "code",
   "execution_count": 45,
   "metadata": {},
   "outputs": [],
   "source": [
    "#append\n",
    "#last ma add kari dee and w mode ma badhu navu aayi jay...\n",
    "\n",
    "file=open(\"sp.txt\",\"a\")\n",
    "file.write(\"---hello world\")\n",
    "file.close()"
   ]
  },
  {
   "cell_type": "code",
   "execution_count": 46,
   "metadata": {},
   "outputs": [
    {
     "data": {
      "text/plain": [
       "'hello world---hello world'"
      ]
     },
     "execution_count": 46,
     "metadata": {},
     "output_type": "execute_result"
    }
   ],
   "source": [
    "file=open(\"sp.txt\",\"r\")\n",
    "file.read()"
   ]
  },
  {
   "cell_type": "code",
   "execution_count": 47,
   "metadata": {},
   "outputs": [
    {
     "name": "stdout",
     "output_type": "stream",
     "text": [
      "B1.What is Python ,Name some of the features of Python.\n",
      "\n",
      "B2: Write a Python program to get the Python version you are using?\n",
      "\n",
      "B3.Is python the right choice for Web based Programming?\n",
      "\n",
      "B4.Why was the language called as Python?\n",
      "\n",
      "B5.Write a Python program to check if a number is positive, negative or zero.\n"
     ]
    }
   ],
   "source": [
    "#read data using for loop\n",
    "\n",
    "file=open(\"smitp.txt\",\"r\")\n",
    "for i in file:\n",
    "    print(i)"
   ]
  },
  {
   "cell_type": "code",
   "execution_count": 50,
   "metadata": {},
   "outputs": [
    {
     "data": {
      "text/plain": [
       "'B1.What is'"
      ]
     },
     "execution_count": 50,
     "metadata": {},
     "output_type": "execute_result"
    }
   ],
   "source": [
    "\"\"\"pella 10 word j print thasee\"\"\"\n",
    "\n",
    "\n",
    "file=open(\"smitp.txt\",\"r\")\n",
    "file.read(10)   "
   ]
  },
  {
   "cell_type": "code",
   "execution_count": null,
   "metadata": {},
   "outputs": [],
   "source": [
    "\"\"\"tell--->currunt location batave\"\"\"\n",
    "\n",
    "\"\"\"seek--->ane jya courser mokalia tya jato re\"\"\""
   ]
  },
  {
   "cell_type": "code",
   "execution_count": 2,
   "metadata": {},
   "outputs": [
    {
     "name": "stdout",
     "output_type": "stream",
     "text": [
      "0\n",
      "B1.What is Python ,N\n",
      "30\n",
      "30\n"
     ]
    }
   ],
   "source": [
    "file=open(\"smitp.txt\",\"r\")\n",
    "print(file.tell())#current locarion batave\n",
    "print(file.read(20))#read 20 words\n",
    "print(file.seek(30))#30 location per aave\n",
    "print(file.tell())#current"
   ]
  },
  {
   "cell_type": "code",
   "execution_count": 3,
   "metadata": {},
   "outputs": [
    {
     "name": "stdout",
     "output_type": "stream",
     "text": [
      "number of lines:: 9\n"
     ]
    }
   ],
   "source": [
    "\"\"\"count totel number of lines in text file\"\"\"\n",
    "file=open(\"smitp.txt\",\"r\") \n",
    "num_lines=0\n",
    "with open(\"smitp.txt\",\"r\") as f:\n",
    "    for line in f:\n",
    "        num_lines+=1\n",
    "print(\"number of lines::\",num_lines)"
   ]
  },
  {
   "cell_type": "code",
   "execution_count": null,
   "metadata": {},
   "outputs": [],
   "source": [
    "file.closed()\n",
    "\"\"\"close 6 k nae te khabar pade only true or false return kare\"\"\""
   ]
  },
  {
   "cell_type": "code",
   "execution_count": 5,
   "metadata": {},
   "outputs": [
    {
     "ename": "TypeError",
     "evalue": "'int' object is not callable",
     "output_type": "error",
     "traceback": [
      "\u001b[1;31m---------------------------------------------------------------------------\u001b[0m",
      "\u001b[1;31mTypeError\u001b[0m                                 Traceback (most recent call last)",
      "\u001b[1;32m<ipython-input-5-cdbf994f4b16>\u001b[0m in \u001b[0;36m<module>\u001b[1;34m\u001b[0m\n\u001b[0;32m      2\u001b[0m \u001b[1;32mwith\u001b[0m \u001b[0mopen\u001b[0m\u001b[1;33m(\u001b[0m\u001b[1;34m\"smitp.txt\"\u001b[0m\u001b[1;33m,\u001b[0m\u001b[1;34m\"r\"\u001b[0m\u001b[1;33m)\u001b[0m \u001b[1;32mas\u001b[0m \u001b[0mf\u001b[0m\u001b[1;33m:\u001b[0m\u001b[1;33m\u001b[0m\u001b[1;33m\u001b[0m\u001b[0m\n\u001b[0;32m      3\u001b[0m     \u001b[1;32mfor\u001b[0m \u001b[0mline\u001b[0m \u001b[1;32min\u001b[0m \u001b[0mf\u001b[0m\u001b[1;33m:\u001b[0m\u001b[1;33m\u001b[0m\u001b[1;33m\u001b[0m\u001b[0m\n\u001b[1;32m----> 4\u001b[1;33m         \u001b[0mreadlines\u001b[0m\u001b[1;33m(\u001b[0m\u001b[1;33m)\u001b[0m\u001b[1;33m\u001b[0m\u001b[1;33m\u001b[0m\u001b[0m\n\u001b[0m\u001b[0;32m      5\u001b[0m \u001b[0mprint\u001b[0m\u001b[1;33m(\u001b[0m\u001b[1;34m\"number of lines::\"\u001b[0m\u001b[1;33m,\u001b[0m\u001b[0mnum_lines\u001b[0m\u001b[1;33m)\u001b[0m\u001b[1;33m\u001b[0m\u001b[1;33m\u001b[0m\u001b[0m\n",
      "\u001b[1;31mTypeError\u001b[0m: 'int' object is not callable"
     ]
    }
   ],
   "source": [
    "file=open(\"smitp.txt\",\"r\") \n",
    "with open(\"smitp.txt\",\"r\") as f:\n",
    "    for line in f:\n",
    "        readlines()\n",
    "print(\"number of lines::\",num_lines)"
   ]
  },
  {
   "cell_type": "code",
   "execution_count": null,
   "metadata": {},
   "outputs": [],
   "source": []
  }
 ],
 "metadata": {
  "kernelspec": {
   "display_name": "Python 3",
   "language": "python",
   "name": "python3"
  },
  "language_info": {
   "codemirror_mode": {
    "name": "ipython",
    "version": 3
   },
   "file_extension": ".py",
   "mimetype": "text/x-python",
   "name": "python",
   "nbconvert_exporter": "python",
   "pygments_lexer": "ipython3",
   "version": "3.6.8"
  }
 },
 "nbformat": 4,
 "nbformat_minor": 4
}
