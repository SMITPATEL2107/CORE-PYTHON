{
 "cells": [
  {
   "cell_type": "code",
   "execution_count": null,
   "metadata": {},
   "outputs": [],
   "source": [
    "oops concept(class and objects)"
   ]
  },
  {
   "cell_type": "code",
   "execution_count": null,
   "metadata": {},
   "outputs": [],
   "source": [
    "\"\"\"what is object?\"\"\"\n",
    "\"\"\"\n",
    "an object is an entity has attribute and behaviour for example, ram is an object\n",
    "who has attribute such as height,width,colour etc..\n",
    "and has certain behaviour such as walking,talking etc\n",
    "\"\"\""
   ]
  },
  {
   "cell_type": "code",
   "execution_count": null,
   "metadata": {},
   "outputs": [],
   "source": [
    "\"what is class?\"\n",
    "\"\"\"\n",
    "a class is blueprint for the objects, for example ram,shyam,smit,shashank are all object so \n",
    "we can define a template(blueprint) class human for these object.\n",
    "the class can define the common attack behaviour of all the object\n",
    "\"\"\""
   ]
  },
  {
   "cell_type": "code",
   "execution_count": null,
   "metadata": {},
   "outputs": [],
   "source": [
    "\"what has is method?\"\n",
    "\"\"\"\n",
    "as we discuss above,an object attribute and behaviour.these behaviour are called \n",
    "method in python\n",
    "\"\"\""
   ]
  },
  {
   "cell_type": "code",
   "execution_count": null,
   "metadata": {},
   "outputs": [],
   "source": [
    "\"what is contructor?\"\n",
    "\"\"\"\n",
    "constructor in python is a special method which is used to initialize the members of a class \n",
    "during run when an object is created. \n",
    "\n",
    "\n",
    "the name of the constructor will always be __init__(). \n",
    "\"\"\""
   ]
  },
  {
   "cell_type": "code",
   "execution_count": null,
   "metadata": {},
   "outputs": [],
   "source": [
    "\"what is inheritance?\"\n",
    "\"\"\"\n",
    "multiple methods with the same name but with a different type of parameter or a different \n",
    "number of parameter is caalled as method overloading.\n",
    "\n",
    "method overloading is not supported in python\n",
    "\"\"\""
   ]
  },
  {
   "cell_type": "code",
   "execution_count": null,
   "metadata": {
    "collapsed": true
   },
   "outputs": [],
   "source": [
    "#syntax\n",
    "class class_name:\n",
    "    \n",
    "    attributes/variable\n",
    "    methods"
   ]
  },
  {
   "cell_type": "code",
   "execution_count": 6,
   "metadata": {},
   "outputs": [
    {
     "name": "stdout",
     "output_type": "stream",
     "text": [
      "3\n",
      "num1: 1\n",
      "num2: 2\n"
     ]
    }
   ],
   "source": [
    "class demo:\n",
    "    num1=1\n",
    "    num2=2\n",
    "    \n",
    "    def read_number(self):\n",
    "        print(self.num1+self.num2)\n",
    "        \n",
    "d=demo()\n",
    "d.read_number()\n",
    "print(\"num1:\",d.num1)\n",
    "print(\"num2:\",d.num2)"
   ]
  },
  {
   "cell_type": "code",
   "execution_count": 1,
   "metadata": {},
   "outputs": [
    {
     "name": "stdout",
     "output_type": "stream",
     "text": [
      "enter the name::sp\n",
      "enter the roll_no::21\n",
      "enter the cast::patel\n",
      "sp\n",
      "21\n",
      "patel\n"
     ]
    }
   ],
   "source": [
    "class student():\n",
    "    sname=input(\"enter the name::\")\n",
    "    roll=input(\"enter the roll_no::\")\n",
    "    cast=input(\"enter the cast::\")\n",
    "    \n",
    "    def std(self):\n",
    "        print(self.sname)\n",
    "        print(self.roll)\n",
    "        print(self.cast)\n",
    "\n",
    "s=student()\n",
    "s.std()"
   ]
  },
  {
   "cell_type": "code",
   "execution_count": 41,
   "metadata": {},
   "outputs": [
    {
     "name": "stdout",
     "output_type": "stream",
     "text": [
      "name: smit\n",
      "class: 12\n",
      "address: mehsana\n"
     ]
    }
   ],
   "source": [
    "class student():\n",
    "    \"\"\"jdksjdksjdsljljsdjsl\n",
    "    dsdsdjds\"\"\"\n",
    "    name=\"smit\"\n",
    "    cls=12\n",
    "    address=\"mehsana\"\n",
    "    \n",
    "    def info(self):\n",
    "        print(\"name:\",self.name)\n",
    "        print(\"class:\",self.cls)\n",
    "    \n",
    "    def add(self):\n",
    "        print(\"address:\",self.address)\n",
    "        \n",
    "\n",
    "s1=student()\n",
    "s2=student()\n",
    "\n",
    "s1.info()\n",
    "s2.add()"
   ]
  },
  {
   "cell_type": "code",
   "execution_count": 13,
   "metadata": {},
   "outputs": [
    {
     "name": "stdout",
     "output_type": "stream",
     "text": [
      "enter the name::sp\n",
      "enter the roll_no::21\n",
      "enter the cast::patel\n",
      "sp\n",
      "21\n",
      "patel\n"
     ]
    }
   ],
   "source": [
    "\n",
    "class student():\n",
    "   \n",
    "    def __init__(self,sname,roll,cast):\n",
    "        self.sname=sname\n",
    "        self.roll=roll\n",
    "        self.cast=cast\n",
    "   \n",
    "    def snam(self):\n",
    "        print(self.sname)\n",
    "    \n",
    "    def rol(self):\n",
    "        print(self.roll)\n",
    "        \n",
    "    def cas(self):\n",
    "        print(self.cast)\n",
    "\n",
    "sname=input(\"enter the name::\")\n",
    "roll=input(\"enter the roll_no::\")\n",
    "cast=input(\"enter the cast::\")\n",
    "\n",
    "s=student(sname,roll,cast)\n",
    "s.snam()\n",
    "s.rol()\n",
    "s.cas()"
   ]
  },
  {
   "cell_type": "code",
   "execution_count": 1,
   "metadata": {},
   "outputs": [
    {
     "name": "stdout",
     "output_type": "stream",
     "text": [
      "enter a::2\n",
      "enter b::3\n",
      "5\n",
      "-1\n",
      "6\n",
      "0.6666666666666666\n"
     ]
    }
   ],
   "source": [
    "class calc():\n",
    "    \n",
    "    def __init__(self,a,b):\n",
    "        self.a=a\n",
    "        self.b=b\n",
    "   \n",
    "    def add(self):\n",
    "        print(self.a+self.b)\n",
    "    \n",
    "    def sub(self):\n",
    "        print(self.a-self.b)\n",
    "        \n",
    "    def mul(self):\n",
    "        print(self.a*self.b)\n",
    "    \n",
    "    def div(self):\n",
    "        print(self.a/self.b) \n",
    "\n",
    "a=int(input(\"enter a::\"))\n",
    "b=int(input(\"enter b::\"))\n",
    "\n",
    "c=calc(a,b)\n",
    "c.add()\n",
    "c.sub()\n",
    "c.mul()\n",
    "c.div()"
   ]
  },
  {
   "cell_type": "code",
   "execution_count": 2,
   "metadata": {},
   "outputs": [
    {
     "data": {
      "text/plain": [
       "{'a': 2, 'b': 3}"
      ]
     },
     "execution_count": 2,
     "metadata": {},
     "output_type": "execute_result"
    }
   ],
   "source": [
    "c.__dict__    #badhi value dictionary na aaavashee"
   ]
  },
  {
   "cell_type": "code",
   "execution_count": 11,
   "metadata": {},
   "outputs": [
    {
     "name": "stdout",
     "output_type": "stream",
     "text": [
      "enter amount to be deposite2000\n",
      "amount deposited 2000.0\n",
      "total balance 27000.0\n",
      "enter amount to be withdraw1000\n",
      "you withdrw 1000.0\n",
      "net avilable balanc:: 26000.0\n",
      "enter password123456\n",
      "you are log in sucessfully\n",
      "you want to change your password y/n?y\n",
      "enter new password:2323\n",
      "you'r new password is 2323\n"
     ]
    }
   ],
   "source": [
    "class bank:\n",
    "    def __init__(self):\n",
    "        self.balance=25000\n",
    "        self.password=123456\n",
    "        \n",
    "    def deposit(self):\n",
    "        amount=float(input(\"enter amount to be deposite\"))\n",
    "        self.balance += amount\n",
    "        print(\"amount deposited\",amount)\n",
    "        print(\"total balance\",self.balance)\n",
    "        \n",
    "    def withdraw(self):\"\"\"withdaw the amount in main balance\"\"\"\n",
    "        amount=float(input(\"enter amount to be withdraw\"))\n",
    "        if self.balance>=amount:\n",
    "            self.balance-=amount\n",
    "            print(\"you withdrw\",amount)\n",
    "        else:\n",
    "            print(\"note sufficiant balance\")\n",
    "        \n",
    "    def display(self):\n",
    "        print(\"net avilable balanc::\",self.balance)\n",
    "        \n",
    "    def login(self):\n",
    "        a=int(input(\"enter password\"))\n",
    "        if a==self.password:\n",
    "            print(\"you are log in sucessfully\")\n",
    "        else:\n",
    "            print(\"sorry you,r password is wrong\")\n",
    "            \n",
    "    def update(self):\n",
    "        b=input(\"you want to change your password y/n?\")\n",
    "        if b=='y':\n",
    "            self.password=input(\"enter new password:\")\n",
    "            print(\"you'r new password is\",self.password)\n",
    "        else:\n",
    "            print(\"okky visit again\")\n",
    "\n",
    "s=bank()\n",
    "\n",
    "s.deposit()\n",
    "s.withdraw()\n",
    "s.display()\n",
    "s.login()\n",
    "s.update()"
   ]
  },
  {
   "cell_type": "code",
   "execution_count": 14,
   "metadata": {},
   "outputs": [],
   "source": [
    "                                \"\"\"inheritence\"\"\"\n",
    "\n",
    "                main class no use bija class ma use kari sakay ane inheritence kevayy"
   ]
  },
  {
   "cell_type": "code",
   "execution_count": 32,
   "metadata": {},
   "outputs": [
    {
     "name": "stdout",
     "output_type": "stream",
     "text": [
      "first name:: smit\n",
      "last name:: patel\n",
      "staff number: 80\n"
     ]
    }
   ],
   "source": [
    "\"\"\"single level inheritance\"\"\"\n",
    "\n",
    "\n",
    "class person():#class_A\n",
    "    \n",
    "    def __init__(self,fname,lname):\n",
    "        self.fname=fname\n",
    "        self.lname=lname\n",
    "    \n",
    "    def showcase(self):\n",
    "        print(\"first name::\",self.fname)\n",
    "        print(\"last name::\",self.lname)\n",
    "\n",
    "    \n",
    "class employee(person):#class_B\n",
    "    \n",
    "    def __init__(self,fname,lname,sno):\n",
    "        person.__init__(self,fname,lname)\n",
    "        #super().__init__(fname,lname)\n",
    "        self.sno=sno\n",
    "    \n",
    "    def show(self):\n",
    "        self.showcase()\n",
    "        print(\"staff number:\",self.sno)\n",
    "        \n",
    "#b=person(\"smit\",\"patel\")\n",
    "a=employee(\"smit\",\"patel\",\"80\")\n",
    "#b.showcase()\n",
    "a.show()"
   ]
  },
  {
   "cell_type": "code",
   "execution_count": null,
   "metadata": {},
   "outputs": [],
   "source": [
    "\"\"\"multi level inheritence\"\"\"\n",
    "\n",
    "\n",
    "class student():#class_A\n",
    "    def __init__(self,sname,roll,cast):\n",
    "        self.sname=sname\n",
    "        self.roll=roll\n",
    "        self.cast=cast\n",
    "        \n",
    "    def std(self):\n",
    "        print(self.sname)\n",
    "        print(self.roll)\n",
    "        print(self.cast)\n",
    "\n",
    "class address(student):#class_B\n",
    "    \n",
    "    def __init__(self,sname,roll,cast,addres,state):\n",
    "        student.__init__(self,sname,roll,cast)\n",
    "        self.addres=addres\n",
    "        self.state=state\n",
    "    \n",
    "    def add(self):\n",
    "        self.std()\n",
    "        print(self.addres)\n",
    "        print(self.state)\n",
    "        \n",
    "\n",
    "class detail(address):#class_C\n",
    "    def __init__(self,sname,roll,cast,addres,state,country):\n",
    "        address.__init__(self,sname,roll,cast,addres,state)\n",
    "        self.country=country\n",
    "    def det(self):\n",
    "        self.add()\n",
    "        print(self.country)\n",
    "        \n",
    "sname=input(\"enter the name::\")\n",
    "roll=input(\"enter the roll_no::\")\n",
    "cast=input(\"enter the cast::\")\n",
    "\n",
    "#s=student(sname,roll,cast)\n",
    "#s.std()\n",
    "addres=input(\"enter the address::\")\n",
    "state=input(\"enter your state name\")\n",
    "#p=address(sname,roll,cast,addres,state)\n",
    "#p.add()\n",
    "country=input(\"enter name of your country\")\n",
    "d=detail(sname,roll,cast,addres,state,country)\n",
    "d.det()"
   ]
  },
  {
   "cell_type": "code",
   "execution_count": null,
   "metadata": {},
   "outputs": [],
   "source": [
    "\"\"\"multiple level inheritance\"\"\"\n",
    "\n",
    "\n",
    "class name(): #class_A\n",
    "    def __init__(self,sname,address):\n",
    "        self.sname=sname\n",
    "        self.address=address\n",
    "    \n",
    "    def show(self):\n",
    "        print(self.sname)\n",
    "        print(self.address)\n",
    "\n",
    "class detail(): #class_B  \n",
    "    def __init__(self,state):\n",
    "        self.state=state\n",
    "    \n",
    "    def showcase(self):\n",
    "        print(self.state)\n",
    "        \n",
    "class alldetail(name,detail): #class_C \n",
    "    def __init__(self,sname,address,state,country):\n",
    "        name.__init__(self,sname,address)\n",
    "        detail.__init__(self,state)\n",
    "        self.country=country\n",
    "\n",
    "    def showc(self):\n",
    "        self.show()\n",
    "        self.showcase()\n",
    "        print(self.country)\n",
    "        \n",
    "sname=input(\"enter name::\")\n",
    "address=input(\"enter address::\")\n",
    "state=input(\"enter state::\")\n",
    "country=input(\"enter country::\")\n",
    "\n",
    "a=alldetail(sname,address,state,country)\n",
    "a.showc()"
   ]
  },
  {
   "cell_type": "code",
   "execution_count": 1,
   "metadata": {},
   "outputs": [
    {
     "name": "stdout",
     "output_type": "stream",
     "text": [
      "enter name of car:neno\n",
      "enter name of compony:tata\n",
      "enter type of colour:red\n",
      "neno\n",
      "tata\n",
      "red\n",
      "enter type of car auto/manual:manual\n",
      "enter capacity of car 2/4/5/7/9sitter:5 seeter\n",
      "neno\n",
      "manual\n",
      "5 seeter\n"
     ]
    }
   ],
   "source": [
    "\"\"\"herarical inheritance\"\"\"\n",
    "\n",
    "class car():#class_A\n",
    "    def __init__(self,name):\n",
    "        self.name=name\n",
    "    def show(self):\n",
    "        print(self.name)\n",
    "\n",
    "        \n",
    "class compony(car):#class_B\n",
    "    def __init__(self,name,com):\n",
    "        car.__init__(self,name)\n",
    "        self.com=com\n",
    "    def show1(self):\n",
    "        self.show()\n",
    "        print(self.com)\n",
    "\n",
    "        \n",
    "class colour(compony):#class_D\n",
    "    def __init__(self,name,com,color):\n",
    "        compony.__init__(self,name,com)\n",
    "        self.color=color\n",
    "    def show2(self):\n",
    "        self.show1()\n",
    "        print(self.color)\n",
    "\n",
    "\n",
    "class typpe(car):#class_C\n",
    "    def __init__(self,name,typp):\n",
    "        car.__init__(self,name)\n",
    "        self.typp=typp\n",
    "    def show3(self):\n",
    "        self.show()\n",
    "        print(self.typp)\n",
    "\n",
    "class capacity(typpe):#class_E\n",
    "    def __init__(self,name,typp,capacity):\n",
    "        typpe.__init__(self,name,typp)\n",
    "        self.capa=capa\n",
    "    def show4(self):\n",
    "        self.show3()\n",
    "        print(self.capa)\n",
    "        \n",
    "\n",
    "name=input(\"enter name of car:\")\n",
    "com=input(\"enter name of compony:\")\n",
    "color=input(\"enter type of colour:\")\n",
    "\n",
    "c=colour(name,com,color)\n",
    "c.show2()\n",
    "typp=input(\"enter type of car auto/manual:\")\n",
    "capa=input(\"enter capacity of car 2/4/5/7/9sitter:\")\n",
    "s=capacity(name,typp,capa)\n",
    "s.show4()"
   ]
  },
  {
   "cell_type": "code",
   "execution_count": 1,
   "metadata": {},
   "outputs": [
    {
     "name": "stdout",
     "output_type": "stream",
     "text": [
      "enter tv name:sony\n",
      "enter tv tv type led/lcd:led\n",
      "enter android or simle:simpke\n",
      "sony\n",
      "led\n",
      "simpke\n",
      "enter tv is hdmi or not??:yaa\n",
      "enter tv has bass or not:yes\n",
      "sony\n",
      "yaa\n",
      "yes\n"
     ]
    }
   ],
   "source": [
    "\"hybrid inheritance\"\n",
    "\n",
    "class tv():    #CLASS_A\n",
    "    def __init__(self,cname):\n",
    "        self.cname=cname\n",
    "    \n",
    "    def show(self):\n",
    "        print(self.cname)\n",
    "        \n",
    "class typp(tv):    #CLASS_C\n",
    "    def __init__(self,cname,tvtype):\n",
    "        tv.__init__(self,cname)\n",
    "        self.tvtype=tvtype\n",
    "        \n",
    "    def show1(self):\n",
    "        self.show()\n",
    "        print(self.tvtype)\n",
    "        \n",
    "class simple(typp):   #CLASS_D\n",
    "    def __init__(self,cname,tvtype,android):\n",
    "        typp.__init__(self,cname,tvtype)\n",
    "        self.android=android\n",
    "        \n",
    "    def show2(self):\n",
    "        self.show1()\n",
    "        print(self.android)\n",
    "\n",
    "class hd():  #CLASS_F\n",
    "    def __init__(self,hdmi):\n",
    "        self.hdmi=hdmi\n",
    "    \n",
    "    def show3(self):\n",
    "        self.show()\n",
    "        print(self.hdmi)\n",
    "\n",
    "class bass(tv,hd):   #CLASS_B\n",
    "    def __init__(self,cname,hdmi,basse):\n",
    "        tv.__init__(self,cname)\n",
    "        hd.__init__(self,hdmi)\n",
    "        self.basse=basse\n",
    "        \n",
    "    def show4(self):\n",
    "        self.show3()\n",
    "        print(self.basse)\n",
    "        \n",
    "        \n",
    "a=input(\"enter tv name:\")\n",
    "b=input(\"enter tv tv type led/lcd:\")\n",
    "c=input(\"enter android or simle:\")\n",
    "s=simple(a,b,c)\n",
    "s.show2()\n",
    "h=input(\"enter tv is hdmi or not??:\")\n",
    "d=input(\"enter tv has bass or not:\")\n",
    "v=bass(a,h,d)\n",
    "v.show4()"
   ]
  },
  {
   "cell_type": "code",
   "execution_count": null,
   "metadata": {},
   "outputs": [],
   "source": [
    "method overloading\n",
    "\n",
    "\"\"\"multiple methods with same name but with a different parameters or a different number of parameters\n",
    "is called method overloading.\n",
    "\n",
    "method overloading is not supported in python.\"\"\""
   ]
  },
  {
   "cell_type": "code",
   "execution_count": null,
   "metadata": {},
   "outputs": [],
   "source": [
    "method overriding\n",
    "\n",
    "\"\"\"if a superclass method has the same name which is declared in the superclass methos then it\n",
    "is called method overriding.\n",
    "super keyword\"\"\""
   ]
  },
  {
   "cell_type": "code",
   "execution_count": 5,
   "metadata": {},
   "outputs": [
    {
     "name": "stdout",
     "output_type": "stream",
     "text": [
      "10\n",
      "30\n",
      "60\n"
     ]
    },
    {
     "ename": "AttributeError",
     "evalue": "'myclass' object has no attribute '__hiddenvariable'",
     "output_type": "error",
     "traceback": [
      "\u001b[1;31m---------------------------------------------------------------------------\u001b[0m",
      "\u001b[1;31mAttributeError\u001b[0m                            Traceback (most recent call last)",
      "\u001b[1;32m<ipython-input-5-b1adce6d1a9f>\u001b[0m in \u001b[0;36m<module>\u001b[1;34m\u001b[0m\n\u001b[0;32m     12\u001b[0m \u001b[0mdemo\u001b[0m\u001b[1;33m.\u001b[0m\u001b[0madd\u001b[0m\u001b[1;33m(\u001b[0m\u001b[1;36m30\u001b[0m\u001b[1;33m)\u001b[0m\u001b[1;33m\u001b[0m\u001b[1;33m\u001b[0m\u001b[0m\n\u001b[0;32m     13\u001b[0m \u001b[1;33m\u001b[0m\u001b[0m\n\u001b[1;32m---> 14\u001b[1;33m \u001b[0mdemo\u001b[0m\u001b[1;33m.\u001b[0m\u001b[0m__hiddenvariable\u001b[0m  \u001b[1;31m#this code have error because it is protected variable\u001b[0m\u001b[1;33m\u001b[0m\u001b[1;33m\u001b[0m\u001b[0m\n\u001b[0m",
      "\u001b[1;31mAttributeError\u001b[0m: 'myclass' object has no attribute '__hiddenvariable'"
     ]
    }
   ],
   "source": [
    "class myclass():\n",
    "    __hiddenvariable=0\n",
    "    _protectedvar=0\n",
    "    def add(self,increament):\n",
    "        self.__hiddenvariable = self.__hiddenvariable+increament\n",
    "        print(self.__hiddenvariable)\n",
    "        \n",
    "demo =myclass()\n",
    "\n",
    "demo.add(10)\n",
    "demo.add(20)\n",
    "demo.add(30)\n",
    "\n",
    "demo.__hiddenvariable  #this code have error because it is protected variable and \n",
    "\n",
    "\n",
    "\n",
    "# how to show value is mention below.................>>"
   ]
  },
  {
   "cell_type": "code",
   "execution_count": 4,
   "metadata": {},
   "outputs": [
    {
     "name": "stdout",
     "output_type": "stream",
     "text": [
      "60\n"
     ]
    }
   ],
   "source": [
    "\"\"\"in the above program,\n",
    "we tried to acess hidden variable outside the class using object and it threw an exeption.\n",
    "\n",
    "we ca acess the value of hidden attribute by a tricky syntax as object._classname__attrname:\"\"\"\n",
    "\n",
    "print(demo._myclass__hiddenvariable)"
   ]
  },
  {
   "cell_type": "code",
   "execution_count": 10,
   "metadata": {},
   "outputs": [
    {
     "name": "stdout",
     "output_type": "stream",
     "text": [
      "bank rate of rate intrest 10\n",
      "SBI rate of rate intrest 7\n",
      "ICICI rate of rate intrest 8\n"
     ]
    }
   ],
   "source": [
    "class bank():\n",
    "    def rio1(self):\n",
    "        return 10;\n",
    "class SBI():\n",
    "    def rio2(self):\n",
    "        return 7;\n",
    "class ICICI(bank):\n",
    "    def rio3(self):\n",
    "        return 8;\n",
    "\n",
    "b1=bank()\n",
    "b2=SBI()\n",
    "b3=ICICI()\n",
    "\n",
    "print(\"bank rate of rate intrest\",b1.rio1())\n",
    "print(\"SBI rate of rate intrest\",b2.rio2())\n",
    "print(\"ICICI rate of rate intrest\",b3.rio3())"
   ]
  },
  {
   "cell_type": "code",
   "execution_count": null,
   "metadata": {},
   "outputs": [],
   "source": []
  }
 ],
 "metadata": {
  "kernelspec": {
   "display_name": "Python 3",
   "language": "python",
   "name": "python3"
  },
  "language_info": {
   "codemirror_mode": {
    "name": "ipython",
    "version": 3
   },
   "file_extension": ".py",
   "mimetype": "text/x-python",
   "name": "python",
   "nbconvert_exporter": "python",
   "pygments_lexer": "ipython3",
   "version": "3.6.8"
  }
 },
 "nbformat": 4,
 "nbformat_minor": 4
}
